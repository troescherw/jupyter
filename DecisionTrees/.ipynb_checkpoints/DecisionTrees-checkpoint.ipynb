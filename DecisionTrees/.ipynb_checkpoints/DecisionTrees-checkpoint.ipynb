{
 "cells": [
  {
   "cell_type": "markdown",
   "metadata": {},
   "source": [
    "# Decision Trees - Entscheidungsbäume"
   ]
  },
  {
   "cell_type": "markdown",
   "metadata": {},
   "source": []
  },
  {
   "cell_type": "markdown",
   "metadata": {},
   "source": [
    "# Decision Trees (Entscheidungsbäume)  und Random Forest"
   ]
  },
  {
   "cell_type": "markdown",
   "metadata": {},
   "source": [
    "Zuerst einige Packages laden:"
   ]
  },
  {
   "cell_type": "code",
   "execution_count": null,
   "metadata": {},
   "outputs": [],
   "source": [
    "if (!require(\"rpart\")) install.packages(\"rpart\")\n",
    "if (!require(\"rpart.plot\")) install.packages(\"rpart.plot\")\n",
    "if (!require(\"rattle\")) install.packages(\"rattle\")\n",
    "if (!require(\"caret\")) install.packages(\"caret\")\n",
    "if (!require(\"randomForest\")) install.packages(\"randomForest\")"
   ]
  },
  {
   "cell_type": "markdown",
   "metadata": {},
   "source": [
    "Wir wollen zuerst das Beispiel aus dem Skript \"Tennis\" nachvollziehen. Dazu laden wir den Datensatz und \n",
    "geben mit *str* die Struktur des Datensatzes aus:"
   ]
  },
  {
   "cell_type": "code",
   "execution_count": null,
   "metadata": {},
   "outputs": [],
   "source": [
    "tennis <- read.csv(\"tennis.csv\", sep=\";\")"
   ]
  },
  {
   "cell_type": "code",
   "execution_count": null,
   "metadata": {},
   "outputs": [],
   "source": [
    "str(tennis)"
   ]
  },
  {
   "cell_type": "markdown",
   "metadata": {},
   "source": [
    "Wir geben die ersten 6 Zeilen aus dem Datensatz aus:"
   ]
  },
  {
   "cell_type": "code",
   "execution_count": null,
   "metadata": {},
   "outputs": [],
   "source": [
    "head(tennis)"
   ]
  },
  {
   "cell_type": "markdown",
   "metadata": {},
   "source": [
    "Es sind zu wenig Daten, um den Datensatz noch in ein Trainings- und Testdatensatz aufzuteilen. Hier geht es erst Mal um das Erstellen eines Modells, also eines Decision Trees. Dieses Modell wird nun erstellt:"
   ]
  },
  {
   "cell_type": "code",
   "execution_count": null,
   "metadata": {},
   "outputs": [],
   "source": [
    "model.tennis <- rpart(TennisGespielt~., data=tennis, control=rpart.control(minbucket = 1, minsplit = 1))"
   ]
  },
  {
   "cell_type": "markdown",
   "metadata": {},
   "source": [
    "Nun plotten wir den Baum:"
   ]
  },
  {
   "cell_type": "code",
   "execution_count": null,
   "metadata": {},
   "outputs": [],
   "source": [
    "rpart.plot(model.tennis)"
   ]
  },
  {
   "cell_type": "markdown",
   "metadata": {},
   "source": [
    "Etwas hübschere Plots mit fancyRpartPlot aus dem Package \"rattle\":"
   ]
  },
  {
   "cell_type": "code",
   "execution_count": null,
   "metadata": {},
   "outputs": [],
   "source": [
    "fancyRpartPlot(model.tennis, palettes=c(\"Spectral\"))"
   ]
  },
  {
   "cell_type": "markdown",
   "metadata": {},
   "source": [
    "# Weiteres Beispiel: IRIS-Datensatz"
   ]
  },
  {
   "cell_type": "markdown",
   "metadata": {},
   "source": [
    "Nun ein etwas umfangreicheres Beispiel: Wir verwenden den Datensatz IRIS mit immerhin 150 Zeilen (Beobachtungen). Wir laden den Datensatz (wird standardmäßig mit R mitgeliefert) und geben die Struktur des Datensatzes sowie die ersten 6 Zeilen aus:"
   ]
  },
  {
   "cell_type": "code",
   "execution_count": null,
   "metadata": {},
   "outputs": [],
   "source": [
    "data(iris)\n",
    "str(iris)\n",
    "head(iris)"
   ]
  },
  {
   "cell_type": "markdown",
   "metadata": {},
   "source": [
    "Nun teilen wir den Datensatz in Trainings- und Testdaten auf. Wir verwenden hierfür die Funktion *createDataPartition* aus dem Package *caret*. 70% der Daten kommen in den Trainings-, 30% in den Testdatensatz:"
   ]
  },
  {
   "cell_type": "code",
   "execution_count": null,
   "metadata": {},
   "outputs": [],
   "source": [
    "set.seed(42)\n",
    "index <- createDataPartition(iris$Species, p=0.7, list=F)\n",
    "train <- iris[index, ]\n",
    "test  <- iris[-index, ]"
   ]
  },
  {
   "cell_type": "markdown",
   "metadata": {},
   "source": [
    "Nun erstellen wir wieder das Modell mit der Funktion *rpart*:"
   ]
  },
  {
   "cell_type": "code",
   "execution_count": null,
   "metadata": {},
   "outputs": [],
   "source": [
    "model <- rpart(Species~., data=train)"
   ]
  },
  {
   "cell_type": "markdown",
   "metadata": {},
   "source": [
    "Wir geben mit *rpart.plot* den Baum aus:"
   ]
  },
  {
   "cell_type": "code",
   "execution_count": null,
   "metadata": {},
   "outputs": [],
   "source": [
    "rpart.plot(model)"
   ]
  },
  {
   "cell_type": "markdown",
   "metadata": {},
   "source": [
    "Wie gut ist  unser Modell? Um das festzustellen, erstellen wir basierend auf dem soeben erstellten Modell eine Vorhersage, gespeichert in *pred*:"
   ]
  },
  {
   "cell_type": "code",
   "execution_count": null,
   "metadata": {},
   "outputs": [],
   "source": [
    "pred <- predict(model, test, type=\"class\")"
   ]
  },
  {
   "cell_type": "markdown",
   "metadata": {},
   "source": [
    "Mit Hilfe der Funktion *confusionMatrix* aus dem *caret* - Package erhalten wir viele Informationen über die Qualität unseres Modells, u.a. die sog. Accuracy:"
   ]
  },
  {
   "cell_type": "code",
   "execution_count": null,
   "metadata": {},
   "outputs": [],
   "source": [
    "confusionMatrix(pred, test$Species)"
   ]
  },
  {
   "cell_type": "markdown",
   "metadata": {},
   "source": [
    "Die Accuracy beträgt immerhin ca. 91%!"
   ]
  },
  {
   "cell_type": "markdown",
   "metadata": {},
   "source": [
    "# k-Fold-Cross-Validation"
   ]
  },
  {
   "cell_type": "markdown",
   "metadata": {},
   "source": [
    "Nun wenden wir noch die k-Fold-Cross-Validation an, um unser Modell besser zu testen. Mit Hilfe der Funktion *createFolds* erstellen wir insgesamt 10 Trainings- bzw. Testdatensätze (k=10). Diese Mengen sind jeweils disjunkt."
   ]
  },
  {
   "cell_type": "code",
   "execution_count": null,
   "metadata": {},
   "outputs": [],
   "source": [
    "folds <- createFolds(train$Species, k=10, returnTrain = T)"
   ]
  },
  {
   "cell_type": "markdown",
   "metadata": {},
   "source": [
    "Wir erstellen nun einen leeren Vektor *accuracies*, in dem die Accuracies für alle 10 Folds gespeichert werden. In einer Schleife erstellen wir für alle Folds ein Modell, ermitteln die Vorhersagen (*pred*) und ermitteln die Accuracy-Werte:"
   ]
  },
  {
   "cell_type": "code",
   "execution_count": null,
   "metadata": {},
   "outputs": [],
   "source": [
    "# Vektor für Accuracies\n",
    "accuracies <- numeric()\n",
    "\n",
    "# Berechne für jeden Fold ein Modell und ermittle die Accuracy\n",
    "ctrl <- rpart.control(minsplit = 1)\n",
    "for(f in folds){\n",
    "  model <- rpart(Species~., data=train[f,], control=ctrl)\n",
    "  pred <- predict(model, test, type=\"class\")\n",
    "  cm <- confusionMatrix(test$Species, pred)\n",
    "  accuracies <- c(accuracies, cm$overall[\"Accuracy\"])\n",
    "}"
   ]
  },
  {
   "cell_type": "markdown",
   "metadata": {},
   "source": [
    "Wir geben die 10 Accuracy-Werte aus und berechnen damit noch den Mittelwert mit *mean* sowie die Varianz mit *var*. Wir stellen fest, dass das Modell sehr stabil ist:"
   ]
  },
  {
   "cell_type": "code",
   "execution_count": null,
   "metadata": {},
   "outputs": [],
   "source": [
    "# berechne Mittelwert und Varianz aus den Accuracies\n",
    "print(accuracies)\n",
    "mean(accuracies)\n",
    "var(accuracies)"
   ]
  },
  {
   "cell_type": "markdown",
   "metadata": {},
   "source": [
    "# Random Forest"
   ]
  },
  {
   "cell_type": "markdown",
   "metadata": {},
   "source": [
    "Schließlich erstellen wir noch einen Random Forest. Wir erstellen 500 Bäume!"
   ]
  },
  {
   "cell_type": "code",
   "execution_count": null,
   "metadata": {},
   "outputs": [],
   "source": [
    "model <- randomForest(Species~., data=train, ntree=500)"
   ]
  },
  {
   "cell_type": "markdown",
   "metadata": {},
   "source": [
    "Mit *plot* erhalten wir Informationen über unser Modell in grafisch aufbereitet Form (das Plotten von 500 Bäumen macht nicht wirklich einen Sinn!). Wir stellen fest, dass sich ab ca. 50 Bäumen der Fehler (Error) nicht mehr ändert. Somit hätten 50 Bäume auch gereicht - zumindest für die vorliegenden Daten."
   ]
  },
  {
   "cell_type": "code",
   "execution_count": null,
   "metadata": {},
   "outputs": [],
   "source": [
    "plot(model)\n",
    "legend(\"top\", colnames(model$err.rate),col=1:4,cex=0.8,fill=1:4)"
   ]
  },
  {
   "cell_type": "markdown",
   "metadata": {},
   "source": [
    "Schließlich wollen wir auch mit unserem Random Forest noch die Qualtiät bestimmen. Wie vorher ermitteln wir Vorhersagen (*pred*) und erstellen eine ConfusionMatrix:"
   ]
  },
  {
   "cell_type": "code",
   "execution_count": null,
   "metadata": {},
   "outputs": [],
   "source": [
    "pred <- predict(model, test, type=\"class\")\n",
    "\n",
    "confusionMatrix(pred, test$Species)"
   ]
  },
  {
   "cell_type": "code",
   "execution_count": null,
   "metadata": {},
   "outputs": [],
   "source": []
  }
 ],
 "metadata": {
  "kernelspec": {
   "display_name": "R",
   "language": "R",
   "name": "ir"
  },
  "language_info": {
   "codemirror_mode": "r",
   "file_extension": ".r",
   "mimetype": "text/x-r-source",
   "name": "R",
   "pygments_lexer": "r",
   "version": "3.5.3"
  }
 },
 "nbformat": 4,
 "nbformat_minor": 2
}
