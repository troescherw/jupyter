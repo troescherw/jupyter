{
 "cells": [
  {
   "cell_type": "markdown",
   "metadata": {},
   "source": [
    "# Decision Trees - Entscheidungsbäume"
   ]
  },
  {
   "cell_type": "markdown",
   "metadata": {},
   "source": []
  },
  {
   "cell_type": "markdown",
   "metadata": {},
   "source": [
    "# Decision Trees (Entscheidungsbäume)  und Random Forest"
   ]
  },
  {
   "cell_type": "markdown",
   "metadata": {},
   "source": [
    "Zuerst einige Packages laden:"
   ]
  },
  {
   "cell_type": "code",
   "execution_count": 24,
   "metadata": {},
   "outputs": [
    {
     "name": "stderr",
     "output_type": "stream",
     "text": [
      "Loading required package: randomForest\n",
      "randomForest 4.6-14\n",
      "Type rfNews() to see new features/changes/bug fixes.\n",
      "\n",
      "Attaching package: 'randomForest'\n",
      "\n",
      "The following object is masked from 'package:ggplot2':\n",
      "\n",
      "    margin\n",
      "\n",
      "The following object is masked from 'package:rattle':\n",
      "\n",
      "    importance\n",
      "\n"
     ]
    }
   ],
   "source": [
    "if (!require(\"rpart\")) install.packages(\"rpart\")\n",
    "if (!require(\"rpart.plot\")) install.packages(\"rpart.plot\")\n",
    "if (!require(\"rattle\")) install.packages(\"rattle\")\n",
    "if (!require(\"caret\")) install.packages(\"caret\")\n",
    "if (!require(\"randomForest\")) install.packages(\"randomForest\")"
   ]
  },
  {
   "cell_type": "markdown",
   "metadata": {},
   "source": [
    "Wir wollen zuerst das Beispiel aus dem Skript \"Tennis\" nachvollziehen. Dazu laden wir den Datensatz und \n",
    "geben mit *str* die Struktur des Datensatzes aus:"
   ]
  },
  {
   "cell_type": "code",
   "execution_count": 8,
   "metadata": {},
   "outputs": [],
   "source": [
    "tennis <- read.csv(\"tennis.csv\", sep=\";\")"
   ]
  },
  {
   "cell_type": "code",
   "execution_count": 9,
   "metadata": {},
   "outputs": [
    {
     "name": "stdout",
     "output_type": "stream",
     "text": [
      "'data.frame':\t14 obs. of  5 variables:\n",
      " $ Witterung       : Factor w/ 3 levels \"Bedeckt\",\"Regnerisch\",..: 2 2 1 3 3 3 1 2 2 3 ...\n",
      " $ Temperatur      : Factor w/ 3 levels \"Heiss\",\"Kalt\",..: 1 1 1 3 2 2 2 3 2 3 ...\n",
      " $ Luftfeuchtigkeit: Factor w/ 2 levels \"Hoch\",\"Normal\": 1 1 1 1 2 2 2 1 2 2 ...\n",
      " $ Windig          : logi  FALSE TRUE FALSE FALSE FALSE TRUE ...\n",
      " $ TennisGespielt  : logi  FALSE FALSE TRUE TRUE TRUE FALSE ...\n"
     ]
    }
   ],
   "source": [
    "str(tennis)"
   ]
  },
  {
   "cell_type": "markdown",
   "metadata": {},
   "source": [
    "Wir geben die ersten 6 Zeilen aus dem Datensatz aus:"
   ]
  },
  {
   "cell_type": "code",
   "execution_count": 10,
   "metadata": {},
   "outputs": [
    {
     "data": {
      "text/html": [
       "<table>\n",
       "<caption>A data.frame: 6 × 5</caption>\n",
       "<thead>\n",
       "\t<tr><th scope=col>Witterung</th><th scope=col>Temperatur</th><th scope=col>Luftfeuchtigkeit</th><th scope=col>Windig</th><th scope=col>TennisGespielt</th></tr>\n",
       "\t<tr><th scope=col>&lt;fct&gt;</th><th scope=col>&lt;fct&gt;</th><th scope=col>&lt;fct&gt;</th><th scope=col>&lt;lgl&gt;</th><th scope=col>&lt;lgl&gt;</th></tr>\n",
       "</thead>\n",
       "<tbody>\n",
       "\t<tr><td>Regnerisch</td><td>Heiss</td><td>Hoch  </td><td>FALSE</td><td>FALSE</td></tr>\n",
       "\t<tr><td>Regnerisch</td><td>Heiss</td><td>Hoch  </td><td> TRUE</td><td>FALSE</td></tr>\n",
       "\t<tr><td>Bedeckt   </td><td>Heiss</td><td>Hoch  </td><td>FALSE</td><td> TRUE</td></tr>\n",
       "\t<tr><td>Sonnig    </td><td>Mild </td><td>Hoch  </td><td>FALSE</td><td> TRUE</td></tr>\n",
       "\t<tr><td>Sonnig    </td><td>Kalt </td><td>Normal</td><td>FALSE</td><td> TRUE</td></tr>\n",
       "\t<tr><td>Sonnig    </td><td>Kalt </td><td>Normal</td><td> TRUE</td><td>FALSE</td></tr>\n",
       "</tbody>\n",
       "</table>\n"
      ],
      "text/latex": [
       "A data.frame: 6 × 5\n",
       "\\begin{tabular}{r|lllll}\n",
       " Witterung & Temperatur & Luftfeuchtigkeit & Windig & TennisGespielt\\\\\n",
       " <fct> & <fct> & <fct> & <lgl> & <lgl>\\\\\n",
       "\\hline\n",
       "\t Regnerisch & Heiss & Hoch   & FALSE & FALSE\\\\\n",
       "\t Regnerisch & Heiss & Hoch   &  TRUE & FALSE\\\\\n",
       "\t Bedeckt    & Heiss & Hoch   & FALSE &  TRUE\\\\\n",
       "\t Sonnig     & Mild  & Hoch   & FALSE &  TRUE\\\\\n",
       "\t Sonnig     & Kalt  & Normal & FALSE &  TRUE\\\\\n",
       "\t Sonnig     & Kalt  & Normal &  TRUE & FALSE\\\\\n",
       "\\end{tabular}\n"
      ],
      "text/markdown": [
       "\n",
       "A data.frame: 6 × 5\n",
       "\n",
       "| Witterung &lt;fct&gt; | Temperatur &lt;fct&gt; | Luftfeuchtigkeit &lt;fct&gt; | Windig &lt;lgl&gt; | TennisGespielt &lt;lgl&gt; |\n",
       "|---|---|---|---|---|\n",
       "| Regnerisch | Heiss | Hoch   | FALSE | FALSE |\n",
       "| Regnerisch | Heiss | Hoch   |  TRUE | FALSE |\n",
       "| Bedeckt    | Heiss | Hoch   | FALSE |  TRUE |\n",
       "| Sonnig     | Mild  | Hoch   | FALSE |  TRUE |\n",
       "| Sonnig     | Kalt  | Normal | FALSE |  TRUE |\n",
       "| Sonnig     | Kalt  | Normal |  TRUE | FALSE |\n",
       "\n"
      ],
      "text/plain": [
       "  Witterung  Temperatur Luftfeuchtigkeit Windig TennisGespielt\n",
       "1 Regnerisch Heiss      Hoch             FALSE  FALSE         \n",
       "2 Regnerisch Heiss      Hoch              TRUE  FALSE         \n",
       "3 Bedeckt    Heiss      Hoch             FALSE   TRUE         \n",
       "4 Sonnig     Mild       Hoch             FALSE   TRUE         \n",
       "5 Sonnig     Kalt       Normal           FALSE   TRUE         \n",
       "6 Sonnig     Kalt       Normal            TRUE  FALSE         "
      ]
     },
     "metadata": {},
     "output_type": "display_data"
    }
   ],
   "source": [
    "head(tennis)"
   ]
  },
  {
   "cell_type": "markdown",
   "metadata": {},
   "source": [
    "Es sind zu wenig Daten, um den Datensatz noch in ein Trainings- und Testdatensatz aufzuteilen. Hier geht es erst Mal um das Erstellen eines Modells, also eines Decision Trees. Dieses Modell wird nun erstellt:"
   ]
  },
  {
   "cell_type": "code",
   "execution_count": 11,
   "metadata": {},
   "outputs": [],
   "source": [
    "model.tennis <- rpart(TennisGespielt~., data=tennis, control=rpart.control(minbucket = 1, minsplit = 1))"
   ]
  },
  {
   "cell_type": "markdown",
   "metadata": {},
   "source": [
    "Nun plotten wir den Baum:"
   ]
  },
  {
   "cell_type": "markdown",
   "metadata": {},
   "source": [
    "rpart.plot(model.tennis)"
   ]
  },
  {
   "cell_type": "code",
   "execution_count": null,
   "metadata": {},
   "outputs": [],
   "source": [
    "Etwas hübschere Plots mit fancyRpartPlot aus dem Package \"rattle\":"
   ]
  },
  {
   "cell_type": "code",
   "execution_count": 13,
   "metadata": {},
   "outputs": [
    {
     "data": {
      "image/png": "[encoded data removed]",
      "text/plain": [
       "Plot with title \"\""
      ]
     },
     "metadata": {},
     "output_type": "display_data"
    }
   ],
   "source": [
    "fancyRpartPlot(model.tennis, palettes=c(\"Spectral\"))"
   ]
  },
  {
   "cell_type": "markdown",
   "metadata": {},
   "source": [
    "# Weiteres Beispiel: IRIS-Datensatz"
   ]
  },
  {
   "cell_type": "markdown",
   "metadata": {},
   "source": [
    "Nun ein etwas umfangreicheres Beispiel: Wir verwenden den Datensatz IRIS mit immerhin 150 Zeilen (Beobachtungen). Wir laden den Datensatz (wird standardmäßig mit R mitgeliefert) und geben die Struktur des Datensatzes sowie die ersten 6 Zeilen aus:"
   ]
  },
  {
   "cell_type": "code",
   "execution_count": 15,
   "metadata": {},
   "outputs": [
    {
     "name": "stdout",
     "output_type": "stream",
     "text": [
      "'data.frame':\t150 obs. of  5 variables:\n",
      " $ Sepal.Length: num  5.1 4.9 4.7 4.6 5 5.4 4.6 5 4.4 4.9 ...\n",
      " $ Sepal.Width : num  3.5 3 3.2 3.1 3.6 3.9 3.4 3.4 2.9 3.1 ...\n",
      " $ Petal.Length: num  1.4 1.4 1.3 1.5 1.4 1.7 1.4 1.5 1.4 1.5 ...\n",
      " $ Petal.Width : num  0.2 0.2 0.2 0.2 0.2 0.4 0.3 0.2 0.2 0.1 ...\n",
      " $ Species     : Factor w/ 3 levels \"setosa\",\"versicolor\",..: 1 1 1 1 1 1 1 1 1 1 ...\n"
     ]
    },
    {
     "data": {
      "text/html": [
       "<table>\n",
       "<caption>A data.frame: 6 × 5</caption>\n",
       "<thead>\n",
       "\t<tr><th scope=col>Sepal.Length</th><th scope=col>Sepal.Width</th><th scope=col>Petal.Length</th><th scope=col>Petal.Width</th><th scope=col>Species</th></tr>\n",
       "\t<tr><th scope=col>&lt;dbl&gt;</th><th scope=col>&lt;dbl&gt;</th><th scope=col>&lt;dbl&gt;</th><th scope=col>&lt;dbl&gt;</th><th scope=col>&lt;fct&gt;</th></tr>\n",
       "</thead>\n",
       "<tbody>\n",
       "\t<tr><td>5.1</td><td>3.5</td><td>1.4</td><td>0.2</td><td>setosa</td></tr>\n",
       "\t<tr><td>4.9</td><td>3.0</td><td>1.4</td><td>0.2</td><td>setosa</td></tr>\n",
       "\t<tr><td>4.7</td><td>3.2</td><td>1.3</td><td>0.2</td><td>setosa</td></tr>\n",
       "\t<tr><td>4.6</td><td>3.1</td><td>1.5</td><td>0.2</td><td>setosa</td></tr>\n",
       "\t<tr><td>5.0</td><td>3.6</td><td>1.4</td><td>0.2</td><td>setosa</td></tr>\n",
       "\t<tr><td>5.4</td><td>3.9</td><td>1.7</td><td>0.4</td><td>setosa</td></tr>\n",
       "</tbody>\n",
       "</table>\n"
      ],
      "text/latex": [
       "A data.frame: 6 × 5\n",
       "\\begin{tabular}{r|lllll}\n",
       " Sepal.Length & Sepal.Width & Petal.Length & Petal.Width & Species\\\\\n",
       " <dbl> & <dbl> & <dbl> & <dbl> & <fct>\\\\\n",
       "\\hline\n",
       "\t 5.1 & 3.5 & 1.4 & 0.2 & setosa\\\\\n",
       "\t 4.9 & 3.0 & 1.4 & 0.2 & setosa\\\\\n",
       "\t 4.7 & 3.2 & 1.3 & 0.2 & setosa\\\\\n",
       "\t 4.6 & 3.1 & 1.5 & 0.2 & setosa\\\\\n",
       "\t 5.0 & 3.6 & 1.4 & 0.2 & setosa\\\\\n",
       "\t 5.4 & 3.9 & 1.7 & 0.4 & setosa\\\\\n",
       "\\end{tabular}\n"
      ],
      "text/markdown": [
       "\n",
       "A data.frame: 6 × 5\n",
       "\n",
       "| Sepal.Length &lt;dbl&gt; | Sepal.Width &lt;dbl&gt; | Petal.Length &lt;dbl&gt; | Petal.Width &lt;dbl&gt; | Species &lt;fct&gt; |\n",
       "|---|---|---|---|---|\n",
       "| 5.1 | 3.5 | 1.4 | 0.2 | setosa |\n",
       "| 4.9 | 3.0 | 1.4 | 0.2 | setosa |\n",
       "| 4.7 | 3.2 | 1.3 | 0.2 | setosa |\n",
       "| 4.6 | 3.1 | 1.5 | 0.2 | setosa |\n",
       "| 5.0 | 3.6 | 1.4 | 0.2 | setosa |\n",
       "| 5.4 | 3.9 | 1.7 | 0.4 | setosa |\n",
       "\n"
      ],
      "text/plain": [
       "  Sepal.Length Sepal.Width Petal.Length Petal.Width Species\n",
       "1 5.1          3.5         1.4          0.2         setosa \n",
       "2 4.9          3.0         1.4          0.2         setosa \n",
       "3 4.7          3.2         1.3          0.2         setosa \n",
       "4 4.6          3.1         1.5          0.2         setosa \n",
       "5 5.0          3.6         1.4          0.2         setosa \n",
       "6 5.4          3.9         1.7          0.4         setosa "
      ]
     },
     "metadata": {},
     "output_type": "display_data"
    }
   ],
   "source": [
    "data(iris)\n",
    "str(iris)\n",
    "head(iris)"
   ]
  },
  {
   "cell_type": "markdown",
   "metadata": {},
   "source": [
    "Nun teilen wir den Datensatz in Trainings- und Testdaten auf. Wir verwenden hierfür die Funktion *createDataPartition* aus dem Package *caret*. 70% der Daten kommen in den Trainings-, 30% in den Testdatensatz:"
   ]
  },
  {
   "cell_type": "code",
   "execution_count": 16,
   "metadata": {},
   "outputs": [],
   "source": [
    "set.seed(42)\n",
    "index <- createDataPartition(iris$Species, p=0.7, list=F)\n",
    "train <- iris[index, ]\n",
    "test  <- iris[-index, ]"
   ]
  },
  {
   "cell_type": "markdown",
   "metadata": {},
   "source": [
    "Nun erstellen wir wieder das Modell mit der Funktion *rpart*:"
   ]
  },
  {
   "cell_type": "code",
   "execution_count": 17,
   "metadata": {},
   "outputs": [],
   "source": [
    "model <- rpart(Species~., data=train)"
   ]
  },
  {
   "cell_type": "markdown",
   "metadata": {},
   "source": [
    "Wir geben mit *rpart.plot* den Baum aus:"
   ]
  },
  {
   "cell_type": "code",
   "execution_count": 18,
   "metadata": {},
   "outputs": [
    {
     "data": {
      "image/png": "[encoded data removed]",
      "text/plain": [
       "plot without title"
      ]
     },
     "metadata": {},
     "output_type": "display_data"
    }
   ],
   "source": [
    "rpart.plot(model)"
   ]
  },
  {
   "cell_type": "markdown",
   "metadata": {},
   "source": [
    "Wie gut ist  unser Modell? Um das festzustellen, erstellen wir basierend auf dem soeben erstellten Modell eine Vorhersage, gespeichert in *pred*:"
   ]
  },
  {
   "cell_type": "code",
   "execution_count": 19,
   "metadata": {},
   "outputs": [],
   "source": [
    "pred <- predict(model, test, type=\"class\")"
   ]
  },
  {
   "cell_type": "markdown",
   "metadata": {},
   "source": [
    "Mit Hilfe der Funktion *confusionMatrix* aus dem *caret* - Package erhalten wir viele Informationen über die Qualität unseres Modells, u.a. die sog. Accuracy:"
   ]
  },
  {
   "cell_type": "code",
   "execution_count": 20,
   "metadata": {},
   "outputs": [
    {
     "data": {
      "text/plain": [
       "Confusion Matrix and Statistics\n",
       "\n",
       "            Reference\n",
       "Prediction   setosa versicolor virginica\n",
       "  setosa         15          0         0\n",
       "  versicolor      0         13         2\n",
       "  virginica       0          2        13\n",
       "\n",
       "Overall Statistics\n",
       "                                          \n",
       "               Accuracy : 0.9111          \n",
       "                 95% CI : (0.7878, 0.9752)\n",
       "    No Information Rate : 0.3333          \n",
       "    P-Value [Acc > NIR] : 8.467e-16       \n",
       "                                          \n",
       "                  Kappa : 0.8667          \n",
       "                                          \n",
       " Mcnemar's Test P-Value : NA              \n",
       "\n",
       "Statistics by Class:\n",
       "\n",
       "                     Class: setosa Class: versicolor Class: virginica\n",
       "Sensitivity                 1.0000            0.8667           0.8667\n",
       "Specificity                 1.0000            0.9333           0.9333\n",
       "Pos Pred Value              1.0000            0.8667           0.8667\n",
       "Neg Pred Value              1.0000            0.9333           0.9333\n",
       "Prevalence                  0.3333            0.3333           0.3333\n",
       "Detection Rate              0.3333            0.2889           0.2889\n",
       "Detection Prevalence        0.3333            0.3333           0.3333\n",
       "Balanced Accuracy           1.0000            0.9000           0.9000"
      ]
     },
     "metadata": {},
     "output_type": "display_data"
    }
   ],
   "source": [
    "confusionMatrix(pred, test$Species)"
   ]
  },
  {
   "cell_type": "markdown",
   "metadata": {},
   "source": [
    "Die Accuracy beträgt immerhin ca. 91%!"
   ]
  },
  {
   "cell_type": "markdown",
   "metadata": {},
   "source": [
    "# k-Fold-Cross-Validation"
   ]
  },
  {
   "cell_type": "markdown",
   "metadata": {},
   "source": [
    "Nun wenden wir noch die k-Fold-Cross-Validation an, um unser Modell besser zu testen. Mit Hilfe der Funktion *createFolds* erstellen wir insgesamt 10 Trainings- bzw. Testdatensätze (k=10). Diese Mengen sind jeweils disjunkt."
   ]
  },
  {
   "cell_type": "code",
   "execution_count": 21,
   "metadata": {},
   "outputs": [],
   "source": [
    "folds <- createFolds(train$Species, k=10, returnTrain = T)"
   ]
  },
  {
   "cell_type": "markdown",
   "metadata": {},
   "source": [
    "Wir erstellen nun einen leeren Vektor *accuracies*, in dem die Accuracies für alle 10 Folds gespeichert werden. In einer Schleife erstellen wir für alle Folds ein Modell, ermitteln die Vorhersagen (*pred*) und ermitteln die Accuracy-Werte:"
   ]
  },
  {
   "cell_type": "code",
   "execution_count": 22,
   "metadata": {},
   "outputs": [],
   "source": [
    "# Vektor für Accuracies\n",
    "accuracies <- numeric()\n",
    "\n",
    "# Berechne für jeden Fold ein Modell und ermittle die Accuracy\n",
    "ctrl <- rpart.control(minsplit = 1)\n",
    "for(f in folds){\n",
    "  model <- rpart(Species~., data=train[f,], control=ctrl)\n",
    "  pred <- predict(model, test, type=\"class\")\n",
    "  cm <- confusionMatrix(test$Species, pred)\n",
    "  accuracies <- c(accuracies, cm$overall[\"Accuracy\"])\n",
    "}"
   ]
  },
  {
   "cell_type": "markdown",
   "metadata": {},
   "source": [
    "Wir geben die 10 Accuracy-Werte aus und berechnen damit noch den Mittelwert mit *mean* sowie die Varianz mit *var*. Wir stellen fest, dass das Modell sehr stabil ist:"
   ]
  },
  {
   "cell_type": "code",
   "execution_count": 23,
   "metadata": {},
   "outputs": [
    {
     "name": "stdout",
     "output_type": "stream",
     "text": [
      " Accuracy  Accuracy  Accuracy  Accuracy  Accuracy  Accuracy  Accuracy  Accuracy \n",
      "0.9333333 0.9111111 0.9333333 0.9333333 0.8888889 0.9333333 0.9333333 0.9333333 \n",
      " Accuracy  Accuracy \n",
      "0.9333333 0.9333333 \n"
     ]
    },
    {
     "data": {
      "text/html": [
       "0.926666666666667"
      ],
      "text/latex": [
       "0.926666666666667"
      ],
      "text/markdown": [
       "0.926666666666667"
      ],
      "text/plain": [
       "[1] 0.9266667"
      ]
     },
     "metadata": {},
     "output_type": "display_data"
    },
    {
     "data": {
      "text/html": [
       "0.000224965706447189"
      ],
      "text/latex": [
       "0.000224965706447189"
      ],
      "text/markdown": [
       "0.000224965706447189"
      ],
      "text/plain": [
       "[1] 0.0002249657"
      ]
     },
     "metadata": {},
     "output_type": "display_data"
    }
   ],
   "source": [
    "# berechne Mittelwert und Varianz aus den Accuracies\n",
    "print(accuracies)\n",
    "mean(accuracies)\n",
    "var(accuracies)"
   ]
  },
  {
   "cell_type": "markdown",
   "metadata": {},
   "source": [
    "# Random Forest"
   ]
  },
  {
   "cell_type": "markdown",
   "metadata": {},
   "source": [
    "Schließlich erstellen wir noch einen Random Forest. Wir erstellen 500 Bäume!"
   ]
  },
  {
   "cell_type": "code",
   "execution_count": 25,
   "metadata": {},
   "outputs": [],
   "source": [
    "model <- randomForest(Species~., data=train, ntree=500)"
   ]
  },
  {
   "cell_type": "markdown",
   "metadata": {},
   "source": [
    "Mit *plot* erhalten wir Informationen über unser Modell in grafisch aufbereitet Form (das Plotten von 500 Bäumen macht nicht wirklich einen Sinn!). Wir stellen fest, dass sich ab ca. 50 Bäumen der Fehler (Error) nicht mehr ändert. Somit hätten 50 Bäume auch gereicht - zumindest für die vorliegenden Daten."
   ]
  },
  {
   "cell_type": "code",
   "execution_count": 27,
   "metadata": {},
   "outputs": [
    {
     "data": {
      "image/png": "[encoded data removed]",
      "text/plain": [
       "Plot with title \"model\""
      ]
     },
     "metadata": {},
     "output_type": "display_data"
    }
   ],
   "source": [
    "plot(model)\n",
    "legend(\"top\", colnames(model$err.rate),col=1:4,cex=0.8,fill=1:4)"
   ]
  },
  {
   "cell_type": "markdown",
   "metadata": {},
   "source": [
    "Schließlich wollen wir auch mit unserem Random Forest noch die Qualtiät bestimmen. Wie vorher ermitteln wir Vorhersagen (*pred*) und erstellen eine ConfusionMatrix:"
   ]
  },
  {
   "cell_type": "code",
   "execution_count": 28,
   "metadata": {},
   "outputs": [
    {
     "data": {
      "text/plain": [
       "Confusion Matrix and Statistics\n",
       "\n",
       "            Reference\n",
       "Prediction   setosa versicolor virginica\n",
       "  setosa         15          0         0\n",
       "  versicolor      0         13         1\n",
       "  virginica       0          2        14\n",
       "\n",
       "Overall Statistics\n",
       "                                         \n",
       "               Accuracy : 0.9333         \n",
       "                 95% CI : (0.8173, 0.986)\n",
       "    No Information Rate : 0.3333         \n",
       "    P-Value [Acc > NIR] : < 2.2e-16      \n",
       "                                         \n",
       "                  Kappa : 0.9            \n",
       "                                         \n",
       " Mcnemar's Test P-Value : NA             \n",
       "\n",
       "Statistics by Class:\n",
       "\n",
       "                     Class: setosa Class: versicolor Class: virginica\n",
       "Sensitivity                 1.0000            0.8667           0.9333\n",
       "Specificity                 1.0000            0.9667           0.9333\n",
       "Pos Pred Value              1.0000            0.9286           0.8750\n",
       "Neg Pred Value              1.0000            0.9355           0.9655\n",
       "Prevalence                  0.3333            0.3333           0.3333\n",
       "Detection Rate              0.3333            0.2889           0.3111\n",
       "Detection Prevalence        0.3333            0.3111           0.3556\n",
       "Balanced Accuracy           1.0000            0.9167           0.9333"
      ]
     },
     "metadata": {},
     "output_type": "display_data"
    }
   ],
   "source": [
    "pred <- predict(model, test, type=\"class\")\n",
    "\n",
    "confusionMatrix(pred, test$Species)"
   ]
  },
  {
   "cell_type": "code",
   "execution_count": null,
   "metadata": {},
   "outputs": [],
   "source": []
  }
 ],
 "metadata": {
  "kernelspec": {
   "display_name": "R",
   "language": "R",
   "name": "ir"
  },
  "language_info": {
   "codemirror_mode": "r",
   "file_extension": ".r",
   "mimetype": "text/x-r-source",
   "name": "R",
   "pygments_lexer": "r",
   "version": "3.5.3"
  }
 },
 "nbformat": 4,
 "nbformat_minor": 2
}
