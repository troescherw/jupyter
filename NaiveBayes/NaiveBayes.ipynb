{
 "cells": [
  {
   "cell_type": "markdown",
   "metadata": {},
   "source": [
    "# Naive Bayes Klassifikator"
   ]
  },
  {
   "cell_type": "markdown",
   "metadata": {},
   "source": [
    "Wir laden das Package *e1071*, das u.a. Funktionen für den Naive Bayes Klassifikator zur Verfügung stellt. Außerdem laden wir noch die üblichen Pakete *ggplot2*, *caret* und *dplyr*."
   ]
  },
  {
   "cell_type": "code",
   "execution_count": null,
   "metadata": {},
   "outputs": [],
   "source": [
    "if(!require(\"e1071\")) install.packages(\"e1071\")\n",
    "if(!require(\"ggplot2\")) install.packages(\"ggplot2\")\n",
    "if(!require(\"dplyr\")) install.packages(\"dplyr\")\n",
    "if(!require(\"caret\")) install.packages(\"caret\")"
   ]
  },
  {
   "cell_type": "markdown",
   "metadata": {},
   "source": [
    "Wir laden die Daten in ein Dataframe: Zuckergehalt und Gewicht von Äpfeln und Birnen:"
   ]
  },
  {
   "cell_type": "code",
   "execution_count": null,
   "metadata": {},
   "outputs": [],
   "source": [
    "obst <- read.csv2(\"obst.csv\")\n",
    "\n",
    "# Die Obstsorte ist kategorial!\n",
    "obst$Obstsorte <- as.factor(obst$Obstsorte)"
   ]
  },
  {
   "cell_type": "code",
   "execution_count": null,
   "metadata": {},
   "outputs": [],
   "source": [
    "obst"
   ]
  },
  {
   "cell_type": "markdown",
   "metadata": {},
   "source": [
    "Wir plotten die Daten (Scatterplot). Die Obstsorte bestimmt die Farbe der Punkte:"
   ]
  },
  {
   "cell_type": "code",
   "execution_count": null,
   "metadata": {},
   "outputs": [],
   "source": [
    "obst %>% ggplot(aes(Gewicht, Zuckergehalt, color=Obstsorte)) + geom_point(size=3)"
   ]
  },
  {
   "cell_type": "markdown",
   "metadata": {},
   "source": [
    "Wir erstellen das Modell mit Hilfe des Naive Bayes Klassifikators:"
   ]
  },
  {
   "cell_type": "code",
   "execution_count": null,
   "metadata": {},
   "outputs": [],
   "source": [
    "model <- naiveBayes(Obstsorte~Zuckergehalt+Gewicht, obst)"
   ]
  },
  {
   "cell_type": "markdown",
   "metadata": {},
   "source": [
    "Wir geben Infos zum Modell aus:"
   ]
  },
  {
   "cell_type": "code",
   "execution_count": null,
   "metadata": {},
   "outputs": [],
   "source": [
    "model"
   ]
  },
  {
   "cell_type": "markdown",
   "metadata": {},
   "source": [
    "Nun wollen wir zwei unbekannte Stücke Obst klassifizieren."
   ]
  },
  {
   "cell_type": "code",
   "execution_count": null,
   "metadata": {},
   "outputs": [],
   "source": [
    "# Erstelle 2 unbekannte Sorten\n",
    "neueSorte1 <- data.frame(Zuckergehalt=52.5, Gewicht=125)\n",
    "neueSorte2 <- data.frame(Zuckergehalt=55.0, Gewicht=145)\n",
    "\n",
    "# Vorhersage mit der predict-Methode\n",
    "predict(model, neueSorte1, type = \"class\")\n",
    "predict(model, neueSorte2, type = \"class\")"
   ]
  },
  {
   "cell_type": "markdown",
   "metadata": {},
   "source": [
    "## Beispiel mit IRIS"
   ]
  },
  {
   "cell_type": "markdown",
   "metadata": {},
   "source": [
    "Wir wenden den Naive Bayes Klassifikator nun auf den Datensatz *IRIS* an. Wie üblich splitten wir in einen Trainings- und Testdatensatz auf und überprüfen die Qualität unseres Modells mit Hilfe der Accuracy."
   ]
  },
  {
   "cell_type": "code",
   "execution_count": null,
   "metadata": {},
   "outputs": [],
   "source": [
    "index <- createDataPartition(iris$Species, p=0.8, list=F)\n",
    "train <- iris[index,]\n",
    "test <- iris[-index,]\n",
    "\n",
    "\n",
    "model <- naiveBayes(train$Species~., data=train)\n",
    "\n",
    "pred <- predict(model, newdata=test, type=\"class\")\n",
    "\n",
    "confusionMatrix(pred,test$Species)$overall[\"Accuracy\"]"
   ]
  },
  {
   "cell_type": "markdown",
   "metadata": {},
   "source": [
    "## Beispiel 3: Datensatz *mtcars*: Vorhersage des Motortyps (V-Motor oder Seriell)"
   ]
  },
  {
   "cell_type": "markdown",
   "metadata": {},
   "source": [
    "In einem weiteren Beispiel ertellen wir ein Naive-Bayes-Modell anhand des Datensatzes *mtcars*. Wir wollen den Motortyp vorhersagen. Wir verwenden zudem die Methode k-Fold-Cross-Validation mit 5 Folds. Für jeden Fold ermitteln wir die Accuracy und geben anschließend die Stanardabweichung der Accuracies aus."
   ]
  },
  {
   "cell_type": "code",
   "execution_count": null,
   "metadata": {},
   "outputs": [],
   "source": [
    "mtcars$vs <- factor(mtcars$vs)\n",
    "\n",
    "\n",
    "# k-Fold-Cross-Validation mit 5 Folds\n",
    "set.seed(23)\n",
    "folds <- createFolds(mtcars$vs, k=5, returnTrain=TRUE)\n",
    "\n",
    "# Erstelle für jeden Fold ein Modell, berechne die Accuracy und\n",
    "# speichere diese im Vektor accuracies\n",
    "\n",
    "# Leerer Vektor für numerische Daten\n",
    "accuracies <- numeric()\n",
    "\n",
    "\n",
    "for(f in folds){\n",
    "  train <- mtcars[f, ]\n",
    "  test  <- mtcars[-f, ]\n",
    "  model <- naiveBayes(vs~cyl + hp + wt + qsec, data=train)\n",
    "  pred  <- predict(model, test, type=\"class\")\n",
    "  accuracies <- c(accuracies, confusionMatrix(pred, test$vs)$overall[\"Accuracy\"])\n",
    "\n",
    "}\n",
    "\n",
    "# Gib die Accuracies aus und berechne Standardabweichung\n",
    "accuracies\n",
    "sd(accuracies)"
   ]
  },
  {
   "cell_type": "code",
   "execution_count": null,
   "metadata": {},
   "outputs": [],
   "source": []
  }
 ],
 "metadata": {
  "kernelspec": {
   "display_name": "R",
   "language": "R",
   "name": "ir"
  },
  "language_info": {
   "codemirror_mode": "r",
   "file_extension": ".r",
   "mimetype": "text/x-r-source",
   "name": "R",
   "pygments_lexer": "r",
   "version": "3.5.3"
  }
 },
 "nbformat": 4,
 "nbformat_minor": 2
}
