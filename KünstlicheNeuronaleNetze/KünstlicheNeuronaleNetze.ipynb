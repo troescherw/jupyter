{
 "cells": [
  {
   "cell_type": "markdown",
   "metadata": {},
   "source": [
    "# KünstlicheNeuronaleNetze"
   ]
  },
  {
   "cell_type": "code",
   "execution_count": null,
   "metadata": {},
   "outputs": [],
   "source": [
    "if(!require(\"neuralnet\")) install.packages(\"neuralnet\")\n",
    "if(!require(\"nnet\")) install.packages(\"nnet\")\n",
    "if(!require(\"caret\")) install.packages(\"caret\")\n",
    "if(!require(\"dplyr\")) install.packages(\"dplyr\")"
   ]
  },
  {
   "cell_type": "markdown",
   "metadata": {},
   "source": [
    "Wir wollen mit Hilfe eines Künstlichen Neuronales Netzes die IRIS-Spezies vorhersagen. Dazu müssen wir den *IRIS*-Datensatz etwas vorbereiten, weil unser KNN nur numerische Daten verarbeiten kann. Kategoriale Variablen (wie *Species* können nicht verarbeitet werden. Deshalb fügen wir unserem Datensatz 3 Features hinzu für unsere 3 Kategorien:"
   ]
  },
  {
   "cell_type": "code",
   "execution_count": null,
   "metadata": {},
   "outputs": [],
   "source": [
    "labels <- class.ind(iris$Species)\n",
    "daten <- cbind(iris, labels)\n",
    "head(daten)"
   ]
  },
  {
   "cell_type": "markdown",
   "metadata": {},
   "source": [
    "Wie gewohnt teilen wir in Trainings- und Testdaten auf:"
   ]
  },
  {
   "cell_type": "code",
   "execution_count": null,
   "metadata": {},
   "outputs": [],
   "source": [
    "index <- createDataPartition(daten$Species, p=.75, list=F)\n",
    "train <- daten[index, ]\n",
    "test <- daten[-index, ]"
   ]
  },
  {
   "cell_type": "markdown",
   "metadata": {},
   "source": [
    "Wir erstellen unsere Formel:"
   ]
  },
  {
   "cell_type": "code",
   "execution_count": null,
   "metadata": {},
   "outputs": [],
   "source": [
    "f <- as.formula(\"setosa+versicolor+virginica ~ Sepal.Length + Sepal.Width + Petal.Length + Petal.Width\")"
   ]
  },
  {
   "cell_type": "markdown",
   "metadata": {},
   "source": [
    "Wir erstellen ein Modell für ein KNN mit folgenden Eigenschaften:\n",
    "\n",
    "- 2 Hidden Layer mit 5 bzw. 4 Neuronen\n",
    "- Aktivierungsfunktion: Tangens Hyperbolicus\n"
   ]
  },
  {
   "cell_type": "code",
   "execution_count": null,
   "metadata": {},
   "outputs": [],
   "source": [
    "model <- neuralnet(f, data = train, hidden = c(5, 4),\n",
    "                   act.fct = \"tanh\")"
   ]
  },
  {
   "cell_type": "markdown",
   "metadata": {},
   "source": [
    "Die Prediction erstellen und Accuracy berechnen, hier mit Hilfe cer *compute*-Funktion:"
   ]
  },
  {
   "cell_type": "code",
   "execution_count": null,
   "metadata": {},
   "outputs": [],
   "source": [
    "pred <- neuralnet::compute(model, test[, 1:4])"
   ]
  },
  {
   "cell_type": "markdown",
   "metadata": {},
   "source": [
    "Wir berechnen die Accuracy:"
   ]
  },
  {
   "cell_type": "code",
   "execution_count": null,
   "metadata": {},
   "outputs": [],
   "source": [
    "# Aus jeder Zeile der Prediction den größten Wert holen\n",
    "\n",
    "predspecies <- max.col(pred$net.result)\n",
    "\n",
    "# Confusion Matrix erstellen, Umwandeln der Indizes 1-3 in die jeweilige Species\n",
    "cm <- confusionMatrix(as.factor(colnames(labels)[predspecies]),\n",
    "                      test$Species)\n",
    "# Accuracy ausgeben\n",
    "cm$overall[\"Accuracy\"]"
   ]
  },
  {
   "cell_type": "markdown",
   "metadata": {},
   "source": [
    "Schließlich plotten wir unser Neuronales Netz (was natürlich nur bei sehr kleinen Netzen wie dieses Sinn macht):"
   ]
  },
  {
   "cell_type": "code",
   "execution_count": null,
   "metadata": {},
   "outputs": [],
   "source": [
    "plot(model)"
   ]
  },
  {
   "cell_type": "code",
   "execution_count": null,
   "metadata": {},
   "outputs": [],
   "source": []
  }
 ],
 "metadata": {
  "kernelspec": {
   "display_name": "R",
   "language": "R",
   "name": "ir"
  },
  "language_info": {
   "codemirror_mode": "r",
   "file_extension": ".r",
   "mimetype": "text/x-r-source",
   "name": "R",
   "pygments_lexer": "r",
   "version": "3.5.3"
  }
 },
 "nbformat": 4,
 "nbformat_minor": 2
}
