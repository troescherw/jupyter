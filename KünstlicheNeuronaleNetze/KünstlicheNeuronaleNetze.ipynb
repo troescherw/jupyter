{
 "cells": [
  {
   "cell_type": "markdown",
   "metadata": {},
   "source": [
    "# KünstlicheNeuronaleNetze"
   ]
  },
  {
   "cell_type": "code",
   "execution_count": null,
   "metadata": {},
   "outputs": [],
   "source": [
    "if(!require(\"neuralnet\")) install.packages(\"neuralnet\")\n",
    "if(!require(\"nnet\")) install.packages(\"nnet\")\n",
    "if(!require(\"caret\")) install.packages(\"caret\")\n",
    "if(!require(\"dplyr\")) install.packages(\"dplyr\")\n",
    "if(!require(\"NeuralNetTools\")) install.packages(\"NeuralNetTools\")"
   ]
  },
  {
   "cell_type": "markdown",
   "metadata": {},
   "source": [
    "Wir wollen mit Hilfe eines Künstlichen Neuronales Netzes die IRIS-Spezies vorhersagen. Dazu erstellen wir wie gewohnt einen Trainings- und Testdatensatz:"
   ]
  },
  {
   "cell_type": "code",
   "execution_count": null,
   "metadata": {},
   "outputs": [],
   "source": [
    "# Trainings- und Testdaten\n",
    "index <- createDataPartition(iris$Species, p=.7, list=F)\n",
    "train <- iris[index, ]\n",
    "test <- iris[-index, ]"
   ]
  },
  {
   "cell_type": "markdown",
   "metadata": {},
   "source": [
    "Mit Hilfe der Funktion *neuralnet* erstellen wir ein Neuronales Netz mit 2 Hidden Layer, eines mit 5, ein weiteres mit 4 Neuronen. Das Erstellen des Modells kann ein paar Sekunden dauern...! Warten, bis \"MODELL ERSTELLT\" ausgegeben wird!"
   ]
  },
  {
   "cell_type": "code",
   "execution_count": null,
   "metadata": {},
   "outputs": [],
   "source": [
    "model <- neuralnet(Species~Petal.Length+Petal.Width+\n",
    "                     Sepal.Width + Sepal.Length, data=train, hidden=c(5,4),\n",
    "                   linear.output = TRUE)\n",
    "\n",
    "\n",
    "print(\"MODELL ERSTELLT!\")"
   ]
  },
  {
   "cell_type": "markdown",
   "metadata": {},
   "source": [
    "Wir erstellen nun eine Prediction und vergleichen diese wie üblich  mit den Testdaten. Anschließend müssen wir das Ergebnis der Prediction etwas aufbereiten. Wir ermitteln die größte vorhergesagte Wahrscheinlichkeit je Spezies und weisen diese der jeweiligen Spezies zu. Außerdem müssen wir die vorhergesagte Spezies wieder als kategoriale Variable definieren:"
   ]
  },
  {
   "cell_type": "code",
   "execution_count": null,
   "metadata": {},
   "outputs": [],
   "source": [
    "# Prediction\n",
    "pred <- predict(model, test)\n",
    "\n",
    "# Prediction-Werte aufbereiten (max. Wahrscheinlichkeit ermitteln)\n",
    "pred <- apply(pred, 1, which.max)\n",
    "\n",
    "# Den numerischen Werten die Kategorien zuordnen.\n",
    "pred <- c('setosa', 'versicolor', 'virginica')[pred]\n",
    "\n",
    "# Kategoriale Variable!\n",
    "pred <- as.factor(pred)\n",
    "\n",
    "# Ausgabe der Vorhersage\n",
    "print(pred)"
   ]
  },
  {
   "cell_type": "markdown",
   "metadata": {},
   "source": [
    "Schließlich ermitteln wir noch die Genauigkeit unseres Modells! Wir erstellen wieder eine ConfusionMatrix, geben zur Begutachtung die Tabelle sowie die Accuracy aus:\n"
   ]
  },
  {
   "cell_type": "code",
   "execution_count": null,
   "metadata": {},
   "outputs": [],
   "source": [
    "# Erstelle ConfusionMatrix\n",
    "cm <- confusionMatrix(pred, test$Species)\n",
    "\n",
    "# Gib nur Tabelle aus\n",
    "cm$table\n",
    "\n",
    "# Gib Accuracy aus\n",
    "cm$overall[\"Accuracy\"]"
   ]
  },
  {
   "cell_type": "markdown",
   "metadata": {},
   "source": [
    "Auch wenn es im Allgemeinen keinen Sinn macht, ein Neuronales Netz zu plotten, können wir dies mit der *plotnet*-Funktion aus dem Package *NeuralNetTools*-Package hier durchführen, da es sich um ein noch relativ übersichtliches Netz handelt:"
   ]
  },
  {
   "cell_type": "code",
   "execution_count": null,
   "metadata": {},
   "outputs": [],
   "source": [
    "plotnet(model)"
   ]
  },
  {
   "cell_type": "code",
   "execution_count": null,
   "metadata": {},
   "outputs": [],
   "source": []
  }
 ],
 "metadata": {
  "kernelspec": {
   "display_name": "R",
   "language": "R",
   "name": "ir"
  },
  "language_info": {
   "codemirror_mode": "r",
   "file_extension": ".r",
   "mimetype": "text/x-r-source",
   "name": "R",
   "pygments_lexer": "r",
   "version": "3.5.3"
  }
 },
 "nbformat": 4,
 "nbformat_minor": 2
}
