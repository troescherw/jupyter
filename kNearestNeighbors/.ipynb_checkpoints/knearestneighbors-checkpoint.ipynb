{
 "cells": [
  {
   "cell_type": "markdown",
   "metadata": {},
   "source": [
    "# k-Nearest-Neighbors"
   ]
  },
  {
   "cell_type": "code",
   "execution_count": null,
   "metadata": {},
   "outputs": [],
   "source": [
    "if(!require(\"ggplot2\")) install.packages(\"ggplot2\")\n",
    "if(!require(\"dplyr\")) install.packages(\"dplyr\")\n",
    "if(!require(\"caret\")) install.packages(\"caret\")"
   ]
  },
  {
   "cell_type": "markdown",
   "metadata": {},
   "source": [
    "## Beispiel 1"
   ]
  },
  {
   "cell_type": "markdown",
   "metadata": {},
   "source": [
    "Wir klassifizieren Kunden bzgl. Alter und Interesse. Auch hier werden wir wieder einen Trainigs- und Testdatensatz erstellen und anhand der Funktion *confusionMatrix* die Qualität unseres Modells ermitteln. Das Modell erstellen wir mit Hilfe der Funktion *knn3*:"
   ]
  },
  {
   "cell_type": "code",
   "execution_count": null,
   "metadata": {},
   "outputs": [],
   "source": [
    "\n",
    "daten <- read.csv(\"classification.csv\")\n",
    "head(daten)\n",
    "str(daten)\n",
    "\n",
    "# Feature success in Factor umwandeln\n",
    "daten$success <- as.factor(daten$success)\n",
    "str(daten)\n",
    "\n",
    "# Plot mit allen Daten\n",
    "daten %>% ggplot(aes(interest, age, color=success)) +\n",
    "  geom_point(size=2)\n",
    "\n",
    "\n",
    "# Aufteilen in Trainings- und Testdaten\n",
    "index <- createDataPartition(daten$success, p=.8, list=F)\n",
    "\n",
    "train <- daten[index, ]\n",
    "test  <- daten[-index, ]\n",
    "\n",
    "# Modell erstellen\n",
    "model <- knn3(success~., data=train, k=5)\n",
    "\n",
    "# Vorhersage\n",
    "pred <- predict(model, test, type=\"class\")\n",
    "\n",
    "confusionMatrix(pred, test$success)"
   ]
  },
  {
   "cell_type": "markdown",
   "metadata": {},
   "source": [
    "## Bestimmung von k"
   ]
  },
  {
   "cell_type": "markdown",
   "metadata": {},
   "source": [
    "Der Hyperparameter k kann auf unterschiedliche Arten bestimmt werden. Wir greifen hier auf die praktiche Funktion *train* im *caret*-Package zurück:"
   ]
  },
  {
   "cell_type": "code",
   "execution_count": null,
   "metadata": {},
   "outputs": [],
   "source": [
    "grid <- expand.grid(k=seq(3,50, by=2)) #k's defnieren\n",
    "\n",
    "model2 <- train(success~., data=train,\n",
    "                method=\"knn\",\n",
    "                tuneGrid=grid)\n",
    "\n",
    "model2\n",
    "plot(model2)\n",
    "\n",
    "# Weitere Möglichkeiten: k-Cross-Validation und Standardisierung der Werte\n",
    "\n",
    "control <- trainControl(method=\"cv\", number=10)\n",
    "\n",
    "model3 <- train(success~., data=train,\n",
    "                method=\"knn\",\n",
    "                preProcess=\"scale\",\n",
    "                tuneGrid=grid)\n",
    "\n",
    "model3\n"
   ]
  },
  {
   "cell_type": "code",
   "execution_count": null,
   "metadata": {},
   "outputs": [],
   "source": [
    "plot(model3)"
   ]
  },
  {
   "cell_type": "markdown",
   "metadata": {},
   "source": [
    "## Beispiel 2"
   ]
  },
  {
   "cell_type": "markdown",
   "metadata": {},
   "source": [
    "Das nachfolgende Beispiel erstellt ein Modell für die Vorhersage von Brustkrebs anhand verschiedener Merkmale. Die Daten sind reale Daten einer US-amerikanischen Klinik."
   ]
  },
  {
   "cell_type": "code",
   "execution_count": null,
   "metadata": {},
   "outputs": [],
   "source": [
    "#################################################################\n",
    "# Vorhersage Brustkrebs\n",
    "# Datenquelle: https://archive.ics.uci.edu/ml/\n",
    "# Datadicionary:\n",
    "# 1) ID number \n",
    "# 2) Diagnosis (M = malignant, B = benign) \n",
    "# 3-32) \n",
    "#\n",
    "# Ten real-valued features are computed for each cell nucleus: \n",
    "  \n",
    "# a) radius (mean of distances from center to points on the perimeter) \n",
    "# b) texture (standard deviation of gray-scale values) \n",
    "# c) perimeter \n",
    "# d) area \n",
    "# e) smoothness (local variation in radius lengths) \n",
    "# f) compactness (perimeter^2 / area - 1.0) \n",
    "# g) concavity (severity of concave portions of the contour) \n",
    "# h) concave points (number of concave portions of the contour) \n",
    "# i) symmetry \n",
    "# j) fractal dimension (\"coastline approximation\" - 1)\n",
    "\n",
    "\n",
    "wbcd <- read.csv(\"wisc_bc_data.csv\", stringsAsFactors = F, header = T)\n",
    "head(wbcd)\n",
    "\n",
    "# ID-Spalte entfernen\n",
    "wbcd <- wbcd[c(-1,-2)]\n",
    "\n",
    "table(wbcd$diagnoses)\n",
    "\n",
    "wbcd$diagnoses <- factor(wbcd$diagnoses, levels=c(\"B\", \"M\"),\n",
    "                                                     labels=c(\"Benign\", \"Malignant\"))\n",
    "table(wbcd$diagnoses)\n",
    "str(wbcd)\n",
    "\n",
    "wbcd[,2:11] <- scale(wbcd[,2:11])\n",
    "\n",
    "head(wbcd)\n",
    "\n",
    "library(caret)\n",
    "library(e1071)\n",
    "index <- createDataPartition(wbcd$diagnoses, p=.8, list=F)\n",
    "train <- wbcd[index,]\n",
    "test  <- wbcd[-index, ]\n",
    "\n",
    "model <- knn3(diagnoses~., data=train, k=11)\n",
    "\n",
    "pred <- predict(model, test, type=\"class\")\n",
    "\n",
    "confusionMatrix(pred, test$diagnoses, positive=\"Malignant\")\n"
   ]
  },
  {
   "cell_type": "code",
   "execution_count": null,
   "metadata": {},
   "outputs": [],
   "source": []
  }
 ],
 "metadata": {
  "kernelspec": {
   "display_name": "R",
   "language": "R",
   "name": "ir"
  },
  "language_info": {
   "codemirror_mode": "r",
   "file_extension": ".r",
   "mimetype": "text/x-r-source",
   "name": "R",
   "pygments_lexer": "r",
   "version": "3.5.3"
  }
 },
 "nbformat": 4,
 "nbformat_minor": 2
}
