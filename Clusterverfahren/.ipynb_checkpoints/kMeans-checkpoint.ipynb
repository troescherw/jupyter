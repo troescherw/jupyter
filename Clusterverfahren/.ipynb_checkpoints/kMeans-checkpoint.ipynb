{
 "cells": [
  {
   "cell_type": "markdown",
   "metadata": {},
   "source": [
    "# Clusterverfahren"
   ]
  },
  {
   "cell_type": "markdown",
   "metadata": {},
   "source": [
    "In diesem Kapitel geht es um \"nicht überwachtes Lernen\". Wir werden zwei Clusterverfahren kennenlernen: *k-Means* und *Agglomeratives Hierarchisches Linkage Average Clustering*.\n",
    "\n",
    "Wir beginnen mit k-Means-Clustering."
   ]
  },
  {
   "cell_type": "markdown",
   "metadata": {},
   "source": [
    "## k-Means Clustering"
   ]
  },
  {
   "cell_type": "code",
   "execution_count": null,
   "metadata": {},
   "outputs": [],
   "source": [
    "if(!require(\"ggplot2\")) install.packages(\"ggplot2\")\n",
    "if(!require(\"ggrepel\")) install.packages(\"ggrepel\")\n",
    "if(!require(\"dplyr\")) install.packages(\"dplyr\")\n",
    "if(!require(\"gapminder\")) install.packages(\"gapminder\")\n",
    "if(!require(\"factoextra\")) install.packages(\"factoextra\")"
   ]
  },
  {
   "cell_type": "markdown",
   "metadata": {},
   "source": [
    "Wir beginnen mit einem einfachen Beispiel, das das Prinzip des k-Means-Algorithmus verdeutlicht. Zuerst erstellen wir ein Dataframe."
   ]
  },
  {
   "cell_type": "code",
   "execution_count": null,
   "metadata": {},
   "outputs": [],
   "source": [
    "daten <- data.frame(Attribut1=c(1,2,4,5),\n",
    "                    Attribut2=c(1,1,3,4))\n",
    "\n",
    "daten\n",
    "plot(daten)"
   ]
  },
  {
   "cell_type": "markdown",
   "metadata": {},
   "source": [
    "Wir erstellen ein Modell mit Hilfe der Funktion *km*. Wir setzen den Hyperparameter k auf 2, da wir 2 Cluster bilden wollen:"
   ]
  },
  {
   "cell_type": "code",
   "execution_count": null,
   "metadata": {},
   "outputs": [],
   "source": [
    "km <- kmeans(daten, 2)"
   ]
  },
  {
   "cell_type": "markdown",
   "metadata": {},
   "source": [
    "Wir können nun bereits die Koordinaten der Center-Punkte ausgeben:"
   ]
  },
  {
   "cell_type": "code",
   "execution_count": null,
   "metadata": {},
   "outputs": [],
   "source": [
    "print(km$centers)"
   ]
  },
  {
   "cell_type": "markdown",
   "metadata": {},
   "source": [
    "Zur Verdeutlichung plotten wir die Punkte nochmals. Wir färben die Punkte abhängig von ihrem zugeordneten Cluster ein. Zusätzlich fügen wir die Centerpunkte ein:"
   ]
  },
  {
   "cell_type": "code",
   "execution_count": null,
   "metadata": {},
   "outputs": [],
   "source": [
    "plot(daten, pch=0, cex=2, col=km$cluster)\n",
    "points(km$centers, pch=17, cex=2, col=\"green\")"
   ]
  },
  {
   "cell_type": "markdown",
   "metadata": {},
   "source": [
    "## Beispiel mit dem Datensatz *IRIS*"
   ]
  },
  {
   "cell_type": "markdown",
   "metadata": {},
   "source": [
    "Im folgenden Beispiel wenden wir dies auf den IRIS-Datensatz an. Wir erstellen 3 Cluster, da es 3 verschiedene IRIS-Typen gibt. Wir färben die Punkte wieder abhängig von ihrem Cluster ein. Da wir einen 2D-Plot ausgeben, können wir nicht alle Features berücksichtigen (das wären 4 Dimensionen). Daher sind einige Beobachtungen scheinbar nicht optimal klassifiziert. Jedenfalls erkenne wir, dass es einen Überlappungsbereich zwischen den Spezies Versicolor und Virginica gibt, während Setosa sehr gut separiert werden kann."
   ]
  },
  {
   "cell_type": "code",
   "execution_count": null,
   "metadata": {},
   "outputs": [],
   "source": [
    "model.iris <- kmeans(iris[,1:4],3)\n",
    "\n",
    "c <- data.frame(model.iris$centers)\n",
    "centers <- data.frame(x=c$Petal.Length, y=c$Petal.Width)\n",
    "\n",
    "iris %>% ggplot(aes(Petal.Length,Petal.Width, color=iris$Species)) + geom_point() +\n",
    "  geom_point(data=centers, aes(x=x, y=y, color=\"CENTER\")) "
   ]
  },
  {
   "cell_type": "markdown",
   "metadata": {},
   "source": [
    "## Beispiel mit dem Datensatz *mtcars*"
   ]
  },
  {
   "cell_type": "markdown",
   "metadata": {},
   "source": [
    "Im folgenden Beispiel clustern wir die Fahrzeuge aus *mtcars* bzgl. ihres Verbrauchs (*mpg*) und Gewicht (*weight*):"
   ]
  },
  {
   "cell_type": "code",
   "execution_count": null,
   "metadata": {},
   "outputs": [],
   "source": [
    "#Datenframe erstellen und standardisieren\n",
    "datenkm <- data.frame(Verbrauch=mtcars$mpg, Gewicht=mtcars$wt)\n",
    "datenkm <- data.frame(scale(datenkm))\n",
    "\n",
    "\n",
    "#Clustern nach dem k-means-Algorithmus, es sollen 4 Cluster erstellt werden\n",
    "cl <- kmeans(data.matrix(datenkm), 4)\n",
    "\n",
    "\n",
    "#Grafik plotten\n",
    "ggplot(datenkm, aes(x=Gewicht, y=Verbrauch)) +\n",
    "  geom_point(col=cl$cluster, size=4, alpha=0.5) +\n",
    "  geom_text_repel(label=row.names(mtcars)) + ggtitle(\"K-means Cluster\")"
   ]
  },
  {
   "cell_type": "markdown",
   "metadata": {},
   "source": [
    "## Beispiel mit Datensatz *USArrest*"
   ]
  },
  {
   "cell_type": "markdown",
   "metadata": {},
   "source": [
    "Im folgenden Beispiel wollen wir US-Bundesstaaten bzgl. ihrer schweren Straftaten clustern!"
   ]
  },
  {
   "cell_type": "code",
   "execution_count": null,
   "metadata": {},
   "outputs": [],
   "source": [
    "head(USArrests)\n",
    "model.arrest <- eclust(scale(USArrests), \"kmeans\", k=4, graph = F)\n",
    "fviz_cluster(model.arrest, ellipse.type = \"norm\", ellipse.level = 0.68, main = \"US-Bundesstaaten nach Straftaten\")"
   ]
  },
  {
   "cell_type": "markdown",
   "metadata": {},
   "source": [
    "## Beispiel: Lebenserwartung in Ländern"
   ]
  },
  {
   "cell_type": "markdown",
   "metadata": {},
   "source": [
    "In diesem Beispiel clustern wir Länder (mit > 30 Mill. Einwohnern) bzgl. der Lebenswerartung und Jahreseinkommen."
   ]
  },
  {
   "cell_type": "code",
   "execution_count": null,
   "metadata": {},
   "outputs": [],
   "source": [
    "data(\"gapminder\")\n",
    "\n",
    "#Binden (direkter Zugriff auf die Attribute ohne Angabe des data.frames)\n",
    "attach(gapminder)\n",
    "\n",
    "\n",
    "\n",
    "#Datenframe erstellen, filtern auf Länder ab 30 Mio. Einwohnern\n",
    "daten <- data.frame(land=country, gdpPercap, lifeExp) %>% filter(pop>30e6)\n",
    "\n",
    "#Daten gruppieren: Mittelwerte über die Jahre bilden\n",
    "daten <- daten %>% group_by(land) %>% summarise(Einkommen=mean(gdpPercap), Lebenserwartung=mean(lifeExp))\n",
    "\n",
    "#Clustern!\n",
    "cl = kmeans(data.matrix(daten), 5)\n",
    "\n",
    "#Grafik plotten, Punkte in Größe 4 mit Tranparenz, Farbe je noch Cluster, Punkte mit Ländernamen beschriften\n",
    "daten %>% ggplot(aes(x=Einkommen, y=Lebenserwartung, label=land)) + \n",
    "  geom_point(col=cl$cluster,size=4, alpha=0.5) +\n",
    "  geom_text_repel()\n",
    "\n",
    "\n",
    "detach(gapminder)"
   ]
  },
  {
   "cell_type": "code",
   "execution_count": null,
   "metadata": {},
   "outputs": [],
   "source": []
  }
 ],
 "metadata": {
  "kernelspec": {
   "display_name": "R",
   "language": "R",
   "name": "ir"
  },
  "language_info": {
   "codemirror_mode": "r",
   "file_extension": ".r",
   "mimetype": "text/x-r-source",
   "name": "R",
   "pygments_lexer": "r",
   "version": "3.5.3"
  }
 },
 "nbformat": 4,
 "nbformat_minor": 2
}
