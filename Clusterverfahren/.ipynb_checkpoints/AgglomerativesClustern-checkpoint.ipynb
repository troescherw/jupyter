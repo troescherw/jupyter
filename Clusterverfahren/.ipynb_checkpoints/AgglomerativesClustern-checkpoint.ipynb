{
 "cells": [
  {
   "cell_type": "markdown",
   "metadata": {},
   "source": [
    "# Agglomeratives Hierarchisches Linkage Average Clustering"
   ]
  },
  {
   "cell_type": "code",
   "execution_count": null,
   "metadata": {},
   "outputs": [],
   "source": [
    "if(!require(\"ggplot2\")) install.packags(\"ggplot2\")\n",
    "if(!require(\"dplyr\")) install.packages(\"dplyr\")\n",
    "if(!require(\"dendextend\")) install.packages(\"dendextend\")\n",
    "if(!require(\"ggdendro\")) install.packages(\"ggdendro\")\n",
    "if(!require(\"factoextra\")) install.packages(\"factoextra\")\n",
    "if(!require(\"cluster\")) install.packages(\"cluster\")\n",
    "if(!require(\"NbClust\")) install.packages(\"NbClust\")\n",
    "if(!require(\"tidyverse\")) install.packages(\"tidyverse\")"
   ]
  },
  {
   "cell_type": "markdown",
   "metadata": {},
   "source": [
    "## Einführendes Beispiel"
   ]
  },
  {
   "cell_type": "markdown",
   "metadata": {},
   "source": [
    "Wir erstellen ein Dataframe mit einigen Zahlen (Merkmale der Objekte)."
   ]
  },
  {
   "cell_type": "code",
   "execution_count": null,
   "metadata": {},
   "outputs": [],
   "source": [
    "Merkmal1 <- c(20,9,8,22,9,19)\n",
    "Merkmal2 <- c(48,34,30,50,31,48)\n",
    "\n",
    "daten <- data.frame(Merkmal1, Merkmal2)"
   ]
  },
  {
   "cell_type": "markdown",
   "metadata": {},
   "source": [
    "Wichtig ist, die Daten zu standardisieren bzw. zu normalisieren. Hier normalisieren wir mit Hilfe der Methode *scale*:"
   ]
  },
  {
   "cell_type": "code",
   "execution_count": null,
   "metadata": {},
   "outputs": [],
   "source": [
    "daten.std <- scale(daten)\n",
    "\n",
    "daten.std"
   ]
  },
  {
   "cell_type": "markdown",
   "metadata": {},
   "source": [
    "Anschließend erstellen wir eine Distanzmatrix mit Hilfe der Funktion *dist*:"
   ]
  },
  {
   "cell_type": "code",
   "execution_count": null,
   "metadata": {},
   "outputs": [],
   "source": [
    "daten.dist <- dist(daten.std)\n",
    "daten.dist"
   ]
  },
  {
   "cell_type": "markdown",
   "metadata": {},
   "source": [
    "Nun können wir Clustern. Wir verwenden die Methode *hclust*:"
   ]
  },
  {
   "cell_type": "code",
   "execution_count": null,
   "metadata": {},
   "outputs": [],
   "source": [
    "model <- hclust(daten.dist, method=\"average\")"
   ]
  },
  {
   "cell_type": "markdown",
   "metadata": {},
   "source": [
    "Wir zeichnen das Dendrogramm:"
   ]
  },
  {
   "cell_type": "code",
   "execution_count": null,
   "metadata": {},
   "outputs": [],
   "source": [
    "plot(model)  #Dendrogramm zeichnen"
   ]
  },
  {
   "cell_type": "markdown",
   "metadata": {},
   "source": [
    "## Beispiel mit mtcars"
   ]
  },
  {
   "cell_type": "code",
   "execution_count": null,
   "metadata": {},
   "outputs": [],
   "source": [
    "daten.cars <- data.frame(Gewicht=mtcars$wt, Verbrauch=mtcars$mpg)\n",
    "row.names(daten.cars) <- row.names(mtcars)\n",
    "\n",
    "daten.scaled <- scale(daten.cars)\n",
    "daten.dist <- dist(daten.scaled)\n",
    "daten.clust <- hclust(daten.dist, method=\"average\")\n",
    "\n",
    "d1 <- color_branches(daten.clust, k=4) %>%\n",
    "  set(\"branches_lwd\", 4) %>% set(\"nodes_pch\", 19) %>%\n",
    "  set(\"labels_cex\", 0.8)\n",
    "\n",
    "plot(d1, main=\"Dendrogramm für Autos\")\n"
   ]
  },
  {
   "cell_type": "markdown",
   "metadata": {},
   "source": [
    "## Beispiel mit Fahrzeugdaten"
   ]
  },
  {
   "cell_type": "markdown",
   "metadata": {},
   "source": [
    "Um nochmals zu verdeutlichen, dass hier nicht-gelabelte Daten zusammengefasst (geclustert) werden, erstellen wir Beispieldaten mit Fahrzeugen. Der Algorithmus *weiß* aber nicht, ob es sich um Fahrräder, Autos oder sonstige Fahrzeuge handelt. Die Objekte werden anhand ihrer  Eigenschaften geclustert!"
   ]
  },
  {
   "cell_type": "code",
   "execution_count": null,
   "metadata": {},
   "outputs": [],
   "source": [
    "# Daten aus CSV-Datei einlesen \n",
    "Fahrzeuge <- read.csv(\"Fahrzeuge.csv\", header = T, sep=\";\", stringsAsFactors = F, dec = \",\")\n",
    "\n",
    "# Struktur des Datensatzes\n",
    "str(Fahrzeuge)\n",
    "\n",
    "# Daten aufbereiten\n",
    "daten <- Fahrzeuge[, 2:6]\n",
    "daten$Kraftstoff <- as.factor(daten$Kraftstoff)\n",
    "daten$Kraftstoff <- as.numeric(daten$Kraftstoff)\n",
    "daten$Leistung <- as.numeric(daten$Leistung)\n",
    "\n",
    "# Spalte \"Typ\" wird zu Zeilennamen (fließt nicht in das Modell ein!)\n",
    "daten <- daten %>% remove_rownames %>% column_to_rownames(var=\"Typ\")\n",
    "\n",
    "# Skalieren / Standardisieren der Daten\n",
    "daten <- scale(daten)\n",
    "\n",
    "# Distanztabelle erstellen\n",
    "d <- dist(daten)\n",
    "\n",
    "# Clustering durchführen\n",
    "clust <- hclust(d, method=\"average\")\n",
    "\n",
    "# Dendrogramm zeichnen\n",
    "plot(clust)\n"
   ]
  },
  {
   "cell_type": "markdown",
   "metadata": {},
   "source": [
    "## Beispiel: Clustern von Tieren bzgl. Schlafzeit (msleep)"
   ]
  },
  {
   "cell_type": "code",
   "execution_count": null,
   "metadata": {},
   "outputs": [],
   "source": [
    "# Auf NAs prüfen\n",
    "colSums(is.na(msleep))\n",
    "\n",
    "#Erstelle neuen Dataframe ohne NAs\n",
    "tiere_ <- msleep %>% select (name,vore,sleep_total) %>% filter(!is.na(vore) & !is.na(sleep_total))\n",
    "tiere <- data.frame(row.names=tiere_$name, Gruppe=as.numeric(factor(tiere_$vore)), Schlafzeit=tiere_$sleep_total)\n",
    "tiere\n",
    "\n",
    "#Normalisieren der Werte\n",
    "tierestd <- scale(tiere)\n",
    "\n",
    "#Distanzmatrix erstellen\n",
    "tieredist <- dist(tierestd, method = \"euclidian\")\n",
    "\n",
    "#Modell erstellen\n",
    "model <- hclust(tieredist, method = \"average\")\n",
    "\n",
    "#Dendrogramm zeichnen\n",
    "ggdendrogram(model, rotate = TRUE)\n",
    "\n",
    "\n",
    "\n",
    "\n"
   ]
  },
  {
   "cell_type": "code",
   "execution_count": null,
   "metadata": {},
   "outputs": [],
   "source": [
    "#Vergleich Mensch und \"African Giant Pouched Rat\" (Gambische Riesenhamsterratte):\n",
    "tiere %>% filter(row.names(tiere) %in% c(\"African giant pouched rat\", \"Human\"))\n",
    "\n",
    "#Weitere Spezialisierung: Wir nehmen das Gewicht des Gehirns (brainwt) hinzu\n",
    "tiere_ <- msleep %>% select (name,vore,sleep_total,brainwt) %>% filter(!is.na(vore) & !is.na(sleep_total) & !is.na(brainwt))\n",
    "tiere  <- data.frame(row.names=tiere_$name, Gruppe=as.numeric(factor(tiere_$vore)), \n",
    "                     Schlafzeit=tiere_$sleep_total, GewichtGehirn=tiere_$brainwt)\n",
    "tiere\n",
    "\n",
    "#Werte normalisieren\n",
    "tierestd <- scale(tiere)\n",
    "\n",
    "#Distanzmatrix erstellen\n",
    "tieredist <- dist(tierestd, method = \"euclidian\")\n",
    "\n",
    "#Modell erstellen\n",
    "model <- hclust(tieredist, method = \"average\")"
   ]
  },
  {
   "cell_type": "code",
   "execution_count": null,
   "metadata": {},
   "outputs": [],
   "source": [
    "#Dendrogramm zeichnen\n",
    "ggdendrogram(model, rotate = TRUE)"
   ]
  },
  {
   "cell_type": "code",
   "execution_count": null,
   "metadata": {},
   "outputs": [],
   "source": []
  }
 ],
 "metadata": {
  "kernelspec": {
   "display_name": "R",
   "language": "R",
   "name": "ir"
  },
  "language_info": {
   "codemirror_mode": "r",
   "file_extension": ".r",
   "mimetype": "text/x-r-source",
   "name": "R",
   "pygments_lexer": "r",
   "version": "3.5.3"
  }
 },
 "nbformat": 4,
 "nbformat_minor": 2
}
