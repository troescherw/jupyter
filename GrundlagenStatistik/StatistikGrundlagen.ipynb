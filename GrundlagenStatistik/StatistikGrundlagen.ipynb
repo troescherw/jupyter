{
 "cells": [
  {
   "cell_type": "markdown",
   "metadata": {},
   "source": [
    "# Grundlagen Statistik\n",
    "In diesem Lektion wollen wir einige grundlegende statitische Größen wiederholen bzw. einführen. Das meiste dürfte bereits bekannt sein. Wir wollen aber neben dem theoretischen Grundlagen auch zeigen, wie wir diese Größen in der Programmiersprache R erstellen können.\n",
    "\n",
    "Wir greifen hierfür auf den Datensatz *heights* zurück. Der Datensatz ist Bestandteil des Packages *dslabs*. Das folgende R-Skript installiert zuerst das Package *dslabs*, gibt dann den grundlegenden Aufbau des Datensatzes sowie die ersten 6 Zeilen aus:"
   ]
  },
  {
   "cell_type": "code",
   "execution_count": null,
   "metadata": {},
   "outputs": [],
   "source": [
    "if(!require(\"dslabs\")) install.packages(\"dslabs\", quiet=TRUE)\n",
    "\n",
    "str(heights)\n",
    "head(heights)"
   ]
  },
  {
   "cell_type": "markdown",
   "metadata": {},
   "source": [
    "*heights* besteht aus zwei Spalten (sog. Features): \n",
    "\n",
    "* sex: Dem Geschlecht der untersuchten Person\n",
    "* height: Die Größe in inches\n",
    "\n",
    "Basierend auf diesen Daten wollen wir nun einige häufig benutzte Statistiken erstellen. Diese wollen wir einerseits aufgrund der mathematischen Definition berechnen bzw. etwaig bereits in R vorhandene Funktionen nutzen.\n",
    "\n",
    "## Maximum und Minimum\n",
    "Zuerst geben wir die maximale und minimale Größe aus. Hierfür nutzen wir die R-Funktionen *min* bzw. *max*:\n",
    "\n"
   ]
  },
  {
   "cell_type": "code",
   "execution_count": null,
   "metadata": {},
   "outputs": [],
   "source": [
    "# Minimum\n",
    "min(heights$height)\n",
    "\n",
    "# Maximum\n",
    "max(heights$height)\n",
    "\n",
    "# Die Funktion range liefert beides in einem Vektor:\n",
    "range(heights$height)"
   ]
  },
  {
   "cell_type": "markdown",
   "metadata": {},
   "source": [
    "## Spannweite\n",
    "Die Spannweite ist die Differenz aus dem Maximal- und Minimalwert:"
   ]
  },
  {
   "cell_type": "code",
   "execution_count": null,
   "metadata": {},
   "outputs": [],
   "source": [
    "# Spannweite\n",
    "max(heights$height) - min(heights$height)\n",
    "\n",
    "# Durch Kombinieren  der Funktion diff und range\n",
    "\n",
    "diff(range(heights$height ))"
   ]
  },
  {
   "cell_type": "markdown",
   "metadata": {},
   "source": [
    "# Mittelwert\n",
    "Der Mittelwert ist der Quotient aus der Summe der Einzelwerte und der Anzahl der Werte:\n",
    "\n",
    "$\n",
    "\\bar{x} = \\frac{1}{n}\\sum _{i=1}^{n}x_{i}\n",
    "$\n",
    "\n",
    "Wir verwenden hierfür die R-Funktion *mean*:"
   ]
  },
  {
   "cell_type": "code",
   "execution_count": null,
   "metadata": {},
   "outputs": [],
   "source": [
    "# Mittelwert\n",
    "mean(heights$height)"
   ]
  },
  {
   "cell_type": "markdown",
   "metadata": {},
   "source": [
    "## Varianz und Standardabweichung (Stichprobe)\n",
    "De Varianz und die Standardabweichung sind Kennzahlen für die Streuung der Daten. Alle diese Kennzahlen werden umso größer, je größer die Streuung in einer Datenreihe ist. Sie sind wie folgt definiert:\n",
    "\n",
    "$ s^2 = \\frac{1}{n-1}\\sum _{i=1}^{n}(x_{i} - \\bar{x})^2$\n",
    "\n",
    "Die Standardabweichung ist die Wurzel der Varianz:\n",
    "\n",
    "$ s = \\sqrt{\\frac{1}{n-1}\\sum _{i=1}^{n}(x_{i} - \\bar{x})^2} $\n",
    "\n",
    "Wir teilen hier jeweis durch (n-1), da wir meist nicht die Daten der Grundgesamtheit zur Verfügung haben. In unserem Beispiel müssten wir die Größen **aller** Männer und Frauen haben! Unser Datensatz ist aber nur eine Stichprobe, sodass wir die Standardabweichung bzw. Varianz nur schätzen können.\n",
    "\n",
    "In R stehen hierfür die Funktionen *var* und *sd* zur Verfügung:"
   ]
  },
  {
   "cell_type": "code",
   "execution_count": null,
   "metadata": {},
   "outputs": [],
   "source": [
    "# Varianz\n",
    "var(heights$height)\n",
    "\n",
    "# Standardabweichung\n",
    "sd(heights$height)"
   ]
  },
  {
   "cell_type": "markdown",
   "metadata": {},
   "source": [
    "## Verteilungen\n",
    "### Binomialverteilung\n",
    "\n",
    "Merkmale:\n",
    "\n",
    "* Typ der Verteilung: Diskret\n",
    "* Merkmal: Ziehen mit Zurücklegen\n",
    "* Klassische Beispiele: Würfeln, Münzwurf\n",
    "\n",
    "Definition:\n",
    "$\n",
    "B(k\\mid p,n)=\\begin{cases}\n",
    "  \\binom nk p^k (1-p)^{n-k} &\\text{falls} \\quad k\\in\\left\\{0,1,\\dots,n\\right\\}\\\\\n",
    "  0            & \\text{sonst.}\\end{cases}\n",
    "$\n",
    "\n",
    "**Beispiel 1:**\n",
    "Wie hoch ist die Wahrscheinlichkeit, dass beim 10-maligen Würfeln exakt 3 mal eine 6 gewürfelt wird?\n",
    "\n",
    "Gegeben:\n",
    "\n",
    "* n = 10\n",
    "* k = 3\n",
    "* p = 1/6\n",
    "\n",
    "\\begin{eqnarray*}\n",
    "B(k \\mid p,n) &=& \\binom nk p^k (1-p)^{n-k} \\\\\n",
    "&=& {10\\choose 3} \\cdot \\left( \\frac{1}{6}\\right)^{3} \\cdot \\left(\\frac{5}{6}\\right)^{7} \\\\\n",
    "&=& \\frac{10!}{(10-3)! \\cdot 3!} \\cdot \\left( \\frac{1}{6}\\right)^{3} \\cdot \\left(\\frac{5}{6}\\right)^{7} \\\\\n",
    "&=& \\underline{0,155}\n",
    "\\end{eqnarray*}\n",
    "\n",
    "Berechnung mit Hilfe von R:"
   ]
  },
  {
   "cell_type": "code",
   "execution_count": null,
   "metadata": {},
   "outputs": [],
   "source": [
    "dbinom(x=3, size=10, prob=1/6)"
   ]
  },
  {
   "cell_type": "markdown",
   "metadata": {},
   "source": [
    "Wir erstellen mit Hilfe von R ein Diagramm, das die Wahrscheinlichkeiten für oben angegebenes Beispiel zeigt: Wahrscheinlichkeiten beim 10-maligen Würfeln für 0, 1, 2, ... 10 mal die 6:"
   ]
  },
  {
   "cell_type": "code",
   "execution_count": null,
   "metadata": {},
   "outputs": [],
   "source": [
    "# Wir erstellen ein Dataframe (eine Tabelle) mit 2 Spalten: den x-Werten von 0 bis 10 und den zugehörigen p-Werten\n",
    "ergebnisse <- data.frame(x=0:10, p=dbinom(0:10, size=10, p=1/6))\n",
    "\n",
    "# Wir geben die Ergebnistabelle aus:\n",
    "\n",
    "\n",
    "# Ausgabe der Ergebnisse:\n",
    "print(ergebnisse)\n",
    "\n",
    "# Wir erstellen ein Balkendiagramm mit den Wahrscheinlickeiten\n",
    "barplot(ergebnisse$p)"
   ]
  },
  {
   "cell_type": "markdown",
   "metadata": {},
   "source": [
    "**Beispiel 2:** Kumulierte Häufigkeit\n",
    "\n",
    "Wie hoch ist die Wahrscheinlichkeit, dass beim 10-maligen Würfeln 1, 2 oder 3 Mal die 6 gewürfelt wird? Dazu müssen die Einzelwahrscheinlichkeiten für X=1, X=2 und X=3 addiert werden.\n",
    "\n",
    "\\begin{eqnarray*}\n",
    "= {10\\choose 1} \\cdot \\left( \\frac{1}{6}\\right)^{1} \\cdot \\left(\\frac{5}{6}\\right)^{9} \n",
    "\t+   {10\\choose 2} \\cdot \\left( \\frac{1}{6}\\right)^{2} \\cdot \\left(\\frac{5}{6}\\right)^{8} \n",
    "  + \t{10\\choose 3} \\cdot \\left( \\frac{1}{6}\\right)^{3} \\cdot \\left(\\frac{5}{6}\\right)^{7} \\\\\n",
    "  = 0,323 + 0,291 + 0,155 \\\\\n",
    "\t= \\underline{0,769}\n",
    "\\end{eqnarray*}\n",
    "\n",
    "Die Aufgabe lässt sich in R wie folgt lösen:"
   ]
  },
  {
   "cell_type": "code",
   "execution_count": null,
   "metadata": {},
   "outputs": [],
   "source": [
    "sum(dbinom(x=1:3, size=10, prob=1/6))"
   ]
  },
  {
   "cell_type": "markdown",
   "metadata": {},
   "source": [
    "**Übung 1:**\n",
    "Aus einer Urne mit (theoretisch unendlich) vielen roten und blauen Kugeln werden 20 Kugeln gezogen. Nach jedem Ziehen wird die Kugel wieder zurückgelegt. \n",
    "\n",
    "Wie groß ist die Wahrscheinlichkeit, dass 8 dieser Kugeln blau sind, wenn 35% der Kugeln blau sind?\n",
    "\n",
    "\n",
    "Eingesetzt in die Formel für die Binomialverteilung:\n",
    "\n",
    "$ P(X=8)=\\binom{20}{8}0,35^{8}\\cdot(1-0,35)^{20-8}=1,161 $\n",
    "\n",
    "Geben Sie den R-Code, der die gesuchte Wahrscheinlichkeit ermittelt, in folgende Zeile ein:"
   ]
  },
  {
   "cell_type": "code",
   "execution_count": null,
   "metadata": {},
   "outputs": [],
   "source": [
    "# Hier den R-Code eingeben:\n",
    "\n"
   ]
  },
  {
   "cell_type": "markdown",
   "metadata": {},
   "source": [
    "**Übung 2:**\n",
    "Wie groß ist die Wahrscheinlichkeit, *höchstens* 8 blaue Kugeln zu ziehen?\n",
    "\n",
    "Geben Sie auch hier wieder den gesuchten R-Code ein:"
   ]
  },
  {
   "cell_type": "code",
   "execution_count": null,
   "metadata": {},
   "outputs": [],
   "source": [
    "# Hier den R-Code eingeben:\n"
   ]
  },
  {
   "cell_type": "markdown",
   "metadata": {},
   "source": [
    "### Normalverteilung\n",
    "Die wohl wichtigste Verteilung, siehe auch \"Zentraler Grenzwertsatz (ZGW)\"\n",
    "Merkmale:\n",
    "* Typ: Stetige Verteilung\n",
    "* Bekannt auch als \"Gaußkurve\" oder auch \"Glockenkurve\"\n",
    "* Beispiele: Unendlich viele (\"Schweizer Taschenmesser der Statistik\")\n",
    "\n",
    "Der *Zentrale Grenzwertsatz* besagt, dass die Stichprobenverteilung der Mittelwerte asymptotisch normalverteilt sein wird, unabhängig von der Form der zugrunde liegenden Verteilung der Daten, vorausgesetzt die Daten sind unabhängig und identisch verteilt. Häufig wird die Normalverteilung auch dazu verwendet, die Binomialverteilung einfacher zu berechnen. Dazu muss die Laplace-Bedingung erfüllt sein: Die Standardabweichung $\\sigma$ muss mindestens 3 ergeben (die sog. Laplace-Bedingung):\n",
    "\n",
    "\n",
    "$ \\sigma = \\sqrt{n \\cdot p \\cdot (1-p)} > 3 $\n",
    " \n",
    "Funktion der Normalverteilung:\n",
    "\n",
    "$ f(x) = \\frac {1}{\\sigma\\sqrt{2\\pi}} e^{-\\frac {1}{2} \\left(\\frac{x-\\mu}{\\sigma}\\right)^2} $\n",
    "\n",
    "Dabei gilt:\n",
    "\n",
    "- $\\sigma$: Standardabweichung der Grundgesamtheit\n",
    "- $\\mu$: Erwartungswert der Grundgesamtheit"
   ]
  },
  {
   "cell_type": "code",
   "execution_count": null,
   "metadata": {},
   "outputs": [],
   "source": [
    "if(!require(\"ggplot2\")) install.packages(\"ggplot2\", quiet=TRUE)\n",
    "if(!require(\"dplyr\")) install.packages(\"dplyr\", quiet=TRUE)\n",
    "\n",
    "x <- seq(-3.5, 3.5, by=.1)\n",
    "y <- dnorm(x)\n",
    "\n",
    "daten <- data.frame(x,y)\n",
    "daten %>% ggplot(aes(x,y)) + geom_area( size=2,\n",
    "                                        alpha=.3,\n",
    "                                        fill=\"red\") +\n",
    "  ggtitle(\"Funktion der Normalverteilung\")"
   ]
  },
  {
   "cell_type": "markdown",
   "metadata": {},
   "source": [
    "### Standardnormalverteilung\n",
    "Bei der Standardnormalverteilung beträgt die Standardabweichung $\\sigma$ immer eins, der Erwartungswert $\\mu$ immer 0. In der Praxis wird häufig die Standardnormalverteilung verwendet. Dazu müssen alle x-Werte in standardisierte z-Werte umgewandelt werden:\n",
    "\n",
    "$ z_{i} = \\frac{x_{i}-\\mu}{\\sigma} $\n",
    "\n",
    "**Beispiel:**\n",
    "Die Körpergröße sei normalverteilt. Wie groß ist die Wahrscheinlichkeit, dass ein zufällig ausgewählter Mann zwischen 70 und 72 inches groß ist?\n",
    "\n",
    "Wir lösen diese Aufgabe mit R, und zwar auf 2 Wegen:\n",
    "* Zuerst die Schritt-für-Schritt-Lösung (wie in der Schule ;-)\n",
    "* Dann mit einem einzigen R-Befehl!"
   ]
  },
  {
   "cell_type": "code",
   "execution_count": null,
   "metadata": {},
   "outputs": [],
   "source": [
    "if(!require(\"dslabs\")) install.packages(\"dslabs\", quiet=TRUE)\n",
    "\n",
    "# Zuerst die Schritt-für-Schritt-Lösung\n",
    "\n",
    "# Ermittle Mittelwert der Körpergrößen der Männer:\n",
    "xq <- mean(heights[heights$sex=='Male', 2])\n",
    "print(xq)\n",
    "\n",
    "# Ermittle die Standardabweichung der Körpergrößen der Männer:\n",
    "s <- sd(heights[heights$sex=='Male', 2])\n",
    "print(s)\n",
    "\n",
    "# Ermittle die z-Werte:\n",
    "z.links <-  (70-xq) / s\n",
    "z.rechts <- (72-xq) / s\n",
    "\n",
    "print(\"Z-Werte:\")\n",
    "print(z.links)\n",
    "print(z.rechts)\n",
    "\n",
    "# Wir schauen in eine Tabelle für Normalverteilungen (siehe Internet oder auch im Skript). Die gesuchte Wahrscheinlichkeit\n",
    "# ist die Fläche unter der Kurve zwischen den beiden Z-Werten.\n",
    "\n",
    "# Für z.links finden wir einen Wert von 0,5753, für z.rechts einen Wert von 0,7704\n",
    "# Somit ergibt sich die Lösung\n",
    "\n",
    "p <- 0.7704 - 0.5753\n",
    "print(p)\n",
    "\n",
    "# Nun die Lösung mit Hilfe der R-Funktion dnorm:\n",
    "pnorm(72, xq, s) - pnorm(70, xq, s)\n"
   ]
  },
  {
   "cell_type": "markdown",
   "metadata": {},
   "source": [
    "Das folgende Diagramm visualisiert diese Aufgabe. Der rot markierte Bereich unter der Kurve entspricht der gesuchten Wahrscheinlichkeit:"
   ]
  },
  {
   "cell_type": "code",
   "execution_count": null,
   "metadata": {},
   "outputs": [],
   "source": [
    "x <- seq(60,80, by=.2)\n",
    "y <- dnorm(x, mean = xq, sd = s)\n",
    "daten <- data.frame(x,y)\n",
    "fill <- data.frame(x=daten$x[daten$x>=70 & daten$x <= 72], y=daten$y[daten$x>=70 & daten$x <= 72])\n",
    "\n",
    "daten %>% ggplot(aes(x,y)) + geom_line() +\n",
    "  geom_area(data=fill, aes(x,y), size=2, alpha=.3, fill=\"red\") +\n",
    "  ggtitle(\"Lösung der Aufgabe\") +\n",
    "  xlab(\"Körpergröße\")"
   ]
  },
  {
   "cell_type": "markdown",
   "metadata": {},
   "source": [
    "Ob eine (Zufalls-)Variable normalverteilt ist, kann u.a. mit einem sog. qq-plot visuell überprüft werden. Der folgende R-Code erstellt einen solchen qq-Plot mit den Körpergrößen der Frauen. Wir verwenden die Funktion *qqnorm* und *qqline*, um die \"optimale\" Gerade einzufügen. Je näher die Punkte an der Geraden liegen, desto \"normalverteilter\" sind die Daten. In unserem Beispiel sind die Körpergrößen der Frauen recht gut normalverteilt, aber insbesondere bei den kleinen Körpergrößen gibt es einige Ausreißer."
   ]
  },
  {
   "cell_type": "code",
   "execution_count": null,
   "metadata": {},
   "outputs": [],
   "source": [
    "library(dplyr)\n",
    "dat <- heights %>% filter(sex==\"Male\")\n",
    "qqnorm(dat$height)\n",
    "qqline(dat$height)"
   ]
  },
  {
   "cell_type": "code",
   "execution_count": null,
   "metadata": {},
   "outputs": [],
   "source": []
  }
 ],
 "metadata": {
  "kernelspec": {
   "display_name": "R",
   "language": "R",
   "name": "ir"
  },
  "language_info": {
   "codemirror_mode": "r",
   "file_extension": ".r",
   "mimetype": "text/x-r-source",
   "name": "R",
   "pygments_lexer": "r",
   "version": "3.5.3"
  }
 },
 "nbformat": 4,
 "nbformat_minor": 2
}
