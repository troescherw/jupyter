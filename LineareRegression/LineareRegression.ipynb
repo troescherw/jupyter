{
 "cells": [
  {
   "cell_type": "markdown",
   "metadata": {},
   "source": [
    "# Lineare Regression"
   ]
  },
  {
   "cell_type": "markdown",
   "metadata": {},
   "source": [
    "Einige Packages installieren bzw. laden..."
   ]
  },
  {
   "cell_type": "code",
   "execution_count": null,
   "metadata": {},
   "outputs": [],
   "source": [
    "if(!require(\"devtools\")) install.packages(\"devtools\")\n",
    "if(!require(\"ggpubr\")) install.packages(\"ggpubr\")\n",
    "if(!require(\"ggplot2\")) install.packages(\"ggplot2\")\n",
    "if(!require(\"dplyr\")) install.packages(\"dplyr\")\n",
    "if(!require(\"rio\")) install.packages(\"rio\")"
   ]
  },
  {
   "cell_type": "markdown",
   "metadata": {},
   "source": [
    "Zuerst ein einfaches Beispiel für eine Lineare Regression. Wir erstellen ein Dataframe mit x- und y-Werten:"
   ]
  },
  {
   "cell_type": "code",
   "execution_count": null,
   "metadata": {},
   "outputs": [],
   "source": [
    "x <- c(25, 27, 29, 35, 40, 45, 46, 50, 55, 58)\n",
    "y <- c(127, 125, 132, 140, 145, 152, 160, 165, 170, 175)\n",
    "\n",
    "daten <- data.frame(x=x, y=y)\n",
    "print(daten)"
   ]
  },
  {
   "cell_type": "markdown",
   "metadata": {},
   "source": [
    "Wir plotten die Daten (Scatterplot) und zeichnen eine Regressionsgerade:"
   ]
  },
  {
   "cell_type": "code",
   "execution_count": null,
   "metadata": {},
   "outputs": [],
   "source": [
    "daten %>% ggplot(aes(x,y)) +\n",
    "  geom_point() +\n",
    "  geom_smooth(method=\"lm\", se=F, color=\"red\", size=2)"
   ]
  },
  {
   "cell_type": "markdown",
   "metadata": {},
   "source": [
    "Nun erstellen wir ein konkretes Modell für die Lineare Regression mit Hilfe der Funktion *lm* (Linear Model). Wir geben die Koeffizienten aus, anschließend weitere Details zum Modell:"
   ]
  },
  {
   "cell_type": "code",
   "execution_count": null,
   "metadata": {},
   "outputs": [],
   "source": [
    "model <- lm(y~x, data=daten)\n",
    "model\n",
    "summary(model)"
   ]
  },
  {
   "cell_type": "markdown",
   "metadata": {},
   "source": [
    "Wichtig ist. u.a. der Wert für $R^2$. Dieser kann mit der Formel, die im Unterricht besprochen wurde, auch manuell berechnet werden:"
   ]
  },
  {
   "cell_type": "code",
   "execution_count": null,
   "metadata": {},
   "outputs": [],
   "source": [
    "# Manuelle Berechnung von R-squared\n",
    "\n",
    "# Ausgabe der Residuen (= y_i - y_hat)\n",
    "model$residuals\n",
    "\n",
    "r_sq <- 1 - sum(model$residuals^2) / sum( (daten$y-mean(daten$y))^2)\n",
    "print(r_sq)"
   ]
  },
  {
   "cell_type": "markdown",
   "metadata": {},
   "source": [
    "Wir ermitteln den Korrelationskoeffizienten r anhand der hergeleiteten Gleichung:"
   ]
  },
  {
   "cell_type": "code",
   "execution_count": null,
   "metadata": {},
   "outputs": [],
   "source": [
    "\n",
    "# Berechnung des Korrelationskoeffzienten r\n",
    "# a) mit r\n",
    "cor(x,y)\n",
    "\n",
    "# b) Manuell\n",
    "r <- cov(x,y) / (sd(x)*sd(y))\n",
    "print(r)\n",
    "\n",
    "# Bei einer abhängigen Variable ist R^2 = r^2\n",
    "r^2"
   ]
  },
  {
   "cell_type": "markdown",
   "metadata": {},
   "source": [
    "## Beispiel: Speiseeis-Umsatz"
   ]
  },
  {
   "cell_type": "markdown",
   "metadata": {},
   "source": [
    "Wir laden einen Datensatz mit Umsatzzahlen (in Tsd. EUR) einer Supermarktkette in Abhängigkeit von der Außentemperatur:"
   ]
  },
  {
   "cell_type": "code",
   "execution_count": null,
   "metadata": {},
   "outputs": [],
   "source": [
    "eis <- read.csv(\"speiseeis_umsatz.csv\")\n",
    "head(eis)"
   ]
  },
  {
   "cell_type": "markdown",
   "metadata": {},
   "source": [
    "Wir plotten die Daten und zeichnen wieder eine Regressionsgerade ein:"
   ]
  },
  {
   "cell_type": "code",
   "execution_count": null,
   "metadata": {},
   "outputs": [],
   "source": [
    "eis %>% ggplot(aes(Temperatur, Umsatz)) +\n",
    "  geom_point() +\n",
    "  geom_smooth(method=\"lm\", se=F)"
   ]
  },
  {
   "cell_type": "markdown",
   "metadata": {},
   "source": [
    "Wir erstellen ein Regressionsmodell und geben Infos zum Modell aus:"
   ]
  },
  {
   "cell_type": "code",
   "execution_count": null,
   "metadata": {},
   "outputs": [],
   "source": [
    "model <- lm(Umsatz~Temperatur, data=eis)\n",
    "model\n",
    "\n",
    "summary(model)\n",
    "cor(eis)"
   ]
  },
  {
   "cell_type": "markdown",
   "metadata": {},
   "source": [
    "## Noch ein Beispiel: Bierpreis auf dem Oktoberfest"
   ]
  },
  {
   "cell_type": "markdown",
   "metadata": {},
   "source": [
    "Wir laden reale Daten (Quelle: Open Data Portal der Stadt München) bzgl. der Bierpreisentwicklung auf dem Oktoberfest:"
   ]
  },
  {
   "cell_type": "code",
   "execution_count": null,
   "metadata": {},
   "outputs": [],
   "source": [
    "#######################################################################################\n",
    "# Beispiel: Bierpreis Oktoberfest\n",
    "# Features:\n",
    "# - jahr\n",
    "# - dauer\n",
    "# - besucher_gesamt (in Millionen)\n",
    "# - besucher_tag (in 1000)\n",
    "# - bier_preis (1 Liter)\n",
    "# - bier_konsum (in Hektoliter)\n",
    "# - hendl_preis\n",
    "# - hendl_konsum\n",
    "\n",
    "#######################################################################################\n",
    "oktoberfest <- read.csv(\"oktoberfestgesamt.csv\")\n",
    "head(oktoberfest)\n"
   ]
  },
  {
   "cell_type": "markdown",
   "metadata": {},
   "source": [
    "Auch hier gebe wir die Daten samt Regressionsgerade wieder grafisch aus:"
   ]
  },
  {
   "cell_type": "code",
   "execution_count": null,
   "metadata": {},
   "outputs": [],
   "source": [
    "oktoberfest %>% ggplot(aes(jahr, bier_preis)) + geom_point() +\n",
    "  geom_smooth(method=\"lm\", se=F)"
   ]
  },
  {
   "cell_type": "markdown",
   "metadata": {},
   "source": [
    "Eine Lineare Regression scheint hier perfekt zu sein! Wir erstellen ein Modell und sagen den Bierpreis für das aktuelle Jahr voraus:"
   ]
  },
  {
   "cell_type": "code",
   "execution_count": null,
   "metadata": {},
   "outputs": [],
   "source": [
    "model.bier <- lm(bier_preis~jahr, data=oktoberfest)\n",
    "model.bier\n",
    "summary(model.bier)\n",
    "\n",
    "# Vorhersage Bierpreis für 2020\n",
    "print(\"Bierpreis vorhergesagt:\")\n",
    "predict(model.bier, data.frame(jahr=2020))"
   ]
  },
  {
   "cell_type": "markdown",
   "metadata": {},
   "source": [
    "## Berechnung der Koeffizienten mit Hilfe der Linearen Algebra"
   ]
  },
  {
   "cell_type": "markdown",
   "metadata": {},
   "source": [
    "Wir erstellen eine Funktion, die die Koeffizienten mit Hilfe der Linearen Algebra berechnet (Koeffizientenbestimmung eines überbestimmten Gleichungssystems mit Hilfe der Moore-Penrose-Pseudoinversen). Wir verwenden als Beispiel unsere Speiseeis-Daten und geben zum Vergleich nochmal die Koeffizienten unseres Modells aus, die die *lm*-Funktion berechnet hat:"
   ]
  },
  {
   "cell_type": "code",
   "execution_count": null,
   "metadata": {},
   "outputs": [],
   "source": [
    "# Funktion erstellen\n",
    "koeff_lm <- function(x,y){\n",
    "  x <- as.matrix(x)   #x in Matrix umwandeln\n",
    "  x <- cbind(interercept=1, x)  # Spalte für beta_0 hinzufügen, auf 1 setzen\n",
    "  solve(t(x) %*% x) %*% t(x) %*% y  # Lineares Gleichungssystem lösen\n",
    "}\n",
    "\n",
    "koeff_lm(eis$Temperatur, eis$Umsatz)\n",
    "\n",
    "# Zum Vergleich: die Koeffizienten aus lm\n",
    "model$coefficients"
   ]
  },
  {
   "cell_type": "markdown",
   "metadata": {},
   "source": [
    "**ACHTUNG**: hohes r bedeutet nicht zwangläufig gutes Modell!!!\n",
    "Beispiel: Datensatz von Francis Anscombe"
   ]
  },
  {
   "cell_type": "code",
   "execution_count": null,
   "metadata": {},
   "outputs": [],
   "source": [
    "data(\"anscombe\")\n",
    "anscombe\n",
    "attach(anscombe)\n",
    "\n",
    "anscombe %>% select_if(is.numeric) %>% cor() %>% corrplot::corrplot()\n",
    "\n",
    "cor(x1, y1)\n",
    "cor(x2, y2)\n",
    "cor(x3, y3)\n",
    "cor(x4, y4)\n",
    "\n",
    "# ==> Alle x/x - Wertepaare haben das gleiche r\n",
    "# Nun Plotten:\n",
    "\n",
    "p1 <- anscombe %>% ggplot(aes(x1,y1)) + geom_point() + geom_smooth(method=\"lm\", se=F)\n",
    "p2 <- anscombe %>% ggplot(aes(x2,y2)) + geom_point() + geom_smooth(method=\"lm\", se=F)\n",
    "p3 <- anscombe %>% ggplot(aes(x3,y3)) + geom_point() + geom_smooth(method=\"lm\", se=F)\n",
    "p4 <- anscombe %>% ggplot(aes(x4,y4)) + geom_point() + geom_smooth(method=\"lm\", se=F)\n",
    "\n",
    "\n",
    "\n",
    "ggarrange(p1, p2, p3, p4 + rremove(\"x.text\"), \n",
    "          labels = c(\"X1\", \"X2\", \"X3\", \"X4\"),\n",
    "          ncol = 2, nrow = 2)"
   ]
  },
  {
   "cell_type": "markdown",
   "metadata": {},
   "source": [
    "## Nicht-lineare Daten"
   ]
  },
  {
   "cell_type": "markdown",
   "metadata": {},
   "source": [
    "Was tun, wenn die Daten nicht linear sind? Beispiel mit der Anzahl der Transistoren auf einer gleichbleibenden Fläche. Laut Moorschem Gesetz verdoppelt sich die Anzahl ca. alle 2 Jahre. Das wäre exponentieller,  nicht linearer Wachstum! Wir laden die Daten und erstellen eine Grafik:"
   ]
  },
  {
   "cell_type": "code",
   "execution_count": null,
   "metadata": {},
   "outputs": [],
   "source": [
    "daten <- import(\"transistors.csv\")\n",
    "plot(daten$Year_after_1970, daten$Transistor_count)"
   ]
  },
  {
   "cell_type": "markdown",
   "metadata": {},
   "source": [
    "Tatsächlich sieht das eher nach expontiellem Wachstum aus! Wir wollen dies nun in eine lineare Funktion überführen. Dazu logarithmieren wir die Daten für die Anzahl der Transistoren und fügen diese Daten dem Datensatz hinzu:"
   ]
  },
  {
   "cell_type": "code",
   "execution_count": null,
   "metadata": {},
   "outputs": [],
   "source": [
    "daten$Transistor_count.log <- log(daten$Transistor_count)\n",
    "head(daten)"
   ]
  },
  {
   "cell_type": "markdown",
   "metadata": {},
   "source": [
    "Wir plotten die Daten, nun aber die logarithmierten Daten auf der Y-Achse:"
   ]
  },
  {
   "cell_type": "code",
   "execution_count": null,
   "metadata": {},
   "outputs": [],
   "source": [
    "plot(daten$Year_after_1970, daten$Transistor_count.log)"
   ]
  },
  {
   "cell_type": "markdown",
   "metadata": {},
   "source": [
    "Das sieht schon wesentlich \"linearer\" aus! Nun können wir auch eine Lineare Regression durchführen:"
   ]
  },
  {
   "cell_type": "code",
   "execution_count": null,
   "metadata": {},
   "outputs": [],
   "source": [
    "# Lineares Modell erstellen und Zusammenfassung ausgeben\n",
    "model <- lm(Transistor_count.log~Year_after_1970, data=daten)\n",
    "summary(model)"
   ]
  },
  {
   "cell_type": "code",
   "execution_count": null,
   "metadata": {},
   "outputs": [],
   "source": []
  }
 ],
 "metadata": {
  "kernelspec": {
   "display_name": "R",
   "language": "R",
   "name": "ir"
  },
  "language_info": {
   "codemirror_mode": "r",
   "file_extension": ".r",
   "mimetype": "text/x-r-source",
   "name": "R",
   "pygments_lexer": "r",
   "version": "3.5.3"
  }
 },
 "nbformat": 4,
 "nbformat_minor": 2
}
