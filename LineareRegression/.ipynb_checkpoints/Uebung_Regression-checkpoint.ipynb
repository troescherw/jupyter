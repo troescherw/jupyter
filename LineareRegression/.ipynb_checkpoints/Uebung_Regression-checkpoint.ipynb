{
 "cells": [
  {
   "cell_type": "markdown",
   "metadata": {},
   "source": [
    "# Übung Regression"
   ]
  },
  {
   "cell_type": "markdown",
   "metadata": {},
   "source": [
    "Wir importieren Datensatz \"Fussballer\", der folgende Informationen enthält:\n",
    "\n",
    "- Den Namen des Fußballers\n",
    "- Sein Körpergewicht\n",
    "- Seine Körpergröße\n",
    "- Der Verein, in dem er spielt"
   ]
  },
  {
   "cell_type": "code",
   "execution_count": null,
   "metadata": {},
   "outputs": [],
   "source": [
    "# Zuerst einige Packages laden\n",
    "if (!require(\"dplyr\")) install.packages(\"dplyr\")\n",
    "if (!require(\"ggplot2\")) install.packages(\"ggplot2\")\n",
    "if (!require(\"rio\")) install.packages(\"rio\")\n",
    "\n",
    "# Laden des Datensatzes\n",
    "fussballer <- import(\"fussballer.csv\", encoding=\"UTF-8\", dec=\",\")\n",
    "\n",
    "# Wir bereiten die Daten noch etwas auf:\n",
    "# Der Verein ist nominal skaliert\n",
    "fussballer$verein <- factor(fussballer$verein)\n",
    "\n",
    "# Wir wollen die Größe in cm, nicht in m\n",
    "fussballer$groesse <- fussballer$groesse * 100"
   ]
  },
  {
   "cell_type": "markdown",
   "metadata": {},
   "source": [
    "**Aufgabe 1**: Geben Sie einen Befehl ein, der die ersten 6 Zeilen des Datensatzes ausgibt!"
   ]
  },
  {
   "cell_type": "code",
   "execution_count": null,
   "metadata": {},
   "outputs": [],
   "source": [
    "# Hier die gesuchte Anweisung eingeben:\n"
   ]
  },
  {
   "cell_type": "markdown",
   "metadata": {},
   "source": [
    "Wir wollen nun feststellen, ob das Körpergewicht mit der Körpergrösse korreliert. Wir erstellen ein lineares Modell:"
   ]
  },
  {
   "cell_type": "code",
   "execution_count": null,
   "metadata": {},
   "outputs": [],
   "source": [
    "modell <- lm(gewicht~groesse, data=fussballer)"
   ]
  },
  {
   "cell_type": "markdown",
   "metadata": {},
   "source": [
    "Wir geben nun Informationen zum Modell aus! Beurteilen Sie die Qualität unseres Modells!\n",
    "Um wie viele kg steigt das Körpergewicht im Mittel, wenn der Fußballer um 1cm größer ist?"
   ]
  },
  {
   "cell_type": "code",
   "execution_count": null,
   "metadata": {},
   "outputs": [],
   "source": [
    "summary(modell)"
   ]
  },
  {
   "cell_type": "markdown",
   "metadata": {},
   "source": [
    "Erstellen wir noch ein Scatterplot und tragen die Regressionsgerade ein:"
   ]
  },
  {
   "cell_type": "code",
   "execution_count": null,
   "metadata": {
    "scrolled": true
   },
   "outputs": [],
   "source": [
    "fussballer %>% ggplot(aes(groesse,gewicht)) +\n",
    "geom_point() +\n",
    "geom_smooth(method=\"lm\", se=FALSE)"
   ]
  },
  {
   "cell_type": "markdown",
   "metadata": {},
   "source": [
    "Berechnen  Sie entweder \"per Hand\" oder mit Hilfe der Methode *predict*, wie schwer ein Fußballer ist, der 181cm groß ist!"
   ]
  },
  {
   "cell_type": "code",
   "execution_count": null,
   "metadata": {},
   "outputs": [],
   "source": []
  }
 ],
 "metadata": {
  "kernelspec": {
   "display_name": "R",
   "language": "R",
   "name": "ir"
  },
  "language_info": {
   "codemirror_mode": "r",
   "file_extension": ".r",
   "mimetype": "text/x-r-source",
   "name": "R",
   "pygments_lexer": "r",
   "version": "3.5.3"
  }
 },
 "nbformat": 4,
 "nbformat_minor": 2
}
