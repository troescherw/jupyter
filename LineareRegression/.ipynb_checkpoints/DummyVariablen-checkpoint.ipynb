{
 "cells": [
  {
   "cell_type": "markdown",
   "metadata": {},
   "source": [
    "# Dummy Variablen"
   ]
  },
  {
   "cell_type": "code",
   "execution_count": null,
   "metadata": {},
   "outputs": [],
   "source": [
    "if(!require(\"dplyr\")) install.packages(\"dplyr\")\n",
    "if(!require(\"ggplot2\")) install.packages(\"ggplot2\")\n",
    "if(!require(\"caret\")) install.packages(\"caret\")\n",
    "if(!require(\"miscTools\")) install.packages(\"miscTools\")"
   ]
  },
  {
   "cell_type": "markdown",
   "metadata": {},
   "source": [
    "Beispiel für die Verwendung von Dummy-Variablen! Wir laden einen Beispiel-Datensatz und betrachten die Struktur der Daten:"
   ]
  },
  {
   "cell_type": "code",
   "execution_count": null,
   "metadata": {},
   "outputs": [],
   "source": [
    "daten <- read.csv(\"daten_dummy.csv\", sep=\";\")\n",
    "daten\n",
    "str(daten)"
   ]
  },
  {
   "cell_type": "markdown",
   "metadata": {},
   "source": [
    "Der Datensatz enthält Daten über Mietpreise von Wohnungen in Abhängigkeit von der Größe in $m^2$ und der Lage. Die Lage ist dabei ein klassisches Beispiel für nominal skalierte Daten. Dieses Feature ist auch schon entsprechend codiert worden: Die Ausgabe der *str*-Funktion zeigt beim Feature *Lage* den Datentyp \"Factor w(ith) 3 Levels, konkret sind das *Innenstadt*, *Außenbezirk* und *Umland*.\n",
    "\n"
   ]
  },
  {
   "cell_type": "markdown",
   "metadata": {},
   "source": [
    "Zuerst einige grafische Auswertungen: Wir geben in einem Plot die Mietpreise in Abhängigkeit der Wohnungsgröße und der Lage aus:"
   ]
  },
  {
   "cell_type": "code",
   "execution_count": null,
   "metadata": {},
   "outputs": [],
   "source": [
    "daten %>% ggplot(aes(Quadratmeter, Mietpreis, color=Lage)) +\n",
    "  geom_point(size=3) +\n",
    "  geom_smooth(method=\"lm\", se=F)"
   ]
  },
  {
   "cell_type": "markdown",
   "metadata": {},
   "source": [
    "Zur Übersicht geben wir diese Daten auch noch als Boxplot aus:"
   ]
  },
  {
   "cell_type": "code",
   "execution_count": null,
   "metadata": {},
   "outputs": [],
   "source": [
    "daten %>% ggplot(aes(Quadratmeter, Mietpreis, fill=Lage)) + geom_boxplot()"
   ]
  },
  {
   "cell_type": "markdown",
   "metadata": {},
   "source": [
    "Wir erstellen nun ein Modell und sagen den Mietpreis einer Wohnung voraus:"
   ]
  },
  {
   "cell_type": "code",
   "execution_count": null,
   "metadata": {},
   "outputs": [],
   "source": [
    "model <- lm(Mietpreis~., data=daten)\n",
    "model\n",
    "summary(model)"
   ]
  },
  {
   "cell_type": "markdown",
   "metadata": {},
   "source": [
    "Wir können nun anhand unseres Modells für Wohnungen Mietpreise vorhersagen. Angenommen ein Makler hat 3 Wohnungen im Angebot und möchte sich die Mietpreise schätzen lassen. Man könnte nun wie folgt vorgehen:"
   ]
  },
  {
   "cell_type": "code",
   "execution_count": null,
   "metadata": {},
   "outputs": [],
   "source": [
    "# Dateframe mit 3 (neuen) Wohnungen erstellen:\n",
    "neue.wohnungen = data.frame(Quadratmeter=c(40, 79, 50),\n",
    "                           Lage = factor(c(\"Innenstadt\", \"Innenstadt\", \"Umland\")))\n",
    "print(neue.wohnungen)\n",
    "\n",
    "# Mietpreise schätzen:\n",
    "round(predict(model, neue.wohnungen))"
   ]
  },
  {
   "cell_type": "markdown",
   "metadata": {},
   "source": [
    "## Bewertung unseres Modells"
   ]
  },
  {
   "cell_type": "markdown",
   "metadata": {},
   "source": [
    "Wir wollen nun nochmals das Modell erstellen, jetzt allerdings anhang von Trainings- und Testdaten:"
   ]
  },
  {
   "cell_type": "code",
   "execution_count": null,
   "metadata": {},
   "outputs": [],
   "source": [
    "# Trainings- und Testdaten\n",
    "index <- createDataPartition(daten$Mietpreis, p=0.8, list=FALSE)\n",
    "train <- daten[index, ]\n",
    "test  <- daten[-index, ]\n",
    "\n",
    "# Modell mit Trainingsdaten erstellen\n",
    "model2 <- lm(Mietpreis~., data=train)\n",
    "\n",
    "# Prognose erstellen\n",
    "pred <- predict(model2, test)\n",
    "\n",
    "# Nun berechnen wir den Korrelationskoefizienten anhand der Daten im Testdatensatz und der Prognose.\n",
    "# Hierfür verwenden wir die Funktion rSquared aus dem Package miscTools. Diese Funktion erwartet als\n",
    "# erstes Argument die y-Werte und als 2. Argument die Residuen:\n",
    "\n",
    "rSquared(test$Mietpreis, pred-test$Mietpreis)"
   ]
  },
  {
   "cell_type": "code",
   "execution_count": null,
   "metadata": {},
   "outputs": [],
   "source": []
  }
 ],
 "metadata": {
  "kernelspec": {
   "display_name": "R",
   "language": "R",
   "name": "ir"
  },
  "language_info": {
   "codemirror_mode": "r",
   "file_extension": ".r",
   "mimetype": "text/x-r-source",
   "name": "R",
   "pygments_lexer": "r",
   "version": "3.5.3"
  }
 },
 "nbformat": 4,
 "nbformat_minor": 2
}
