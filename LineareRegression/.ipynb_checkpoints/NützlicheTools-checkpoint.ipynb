{
 "cells": [
  {
   "cell_type": "markdown",
   "metadata": {},
   "source": [
    "# Lineare Regression - Nützliche Tools / Funktionen"
   ]
  },
  {
   "cell_type": "markdown",
   "metadata": {},
   "source": [
    "Zuerst ein paar Packages laden..."
   ]
  },
  {
   "cell_type": "code",
   "execution_count": null,
   "metadata": {},
   "outputs": [],
   "source": [
    "if(!require(\"GGally\")) install.packages(\"GGally\")\n",
    "if(!require(\"corrplot\")) install.packages(\"corrplot\")\n",
    "if(!require(\"dplyr\")) install.packages(\"dplyr\")\n",
    "if(!require(\"ggplot2\")) install.packages(\"ggplot2\")"
   ]
  },
  {
   "cell_type": "markdown",
   "metadata": {},
   "source": [
    "Beispiel: Datensatz *mtcars*: Welche Features korrelieren?"
   ]
  },
  {
   "cell_type": "code",
   "execution_count": null,
   "metadata": {},
   "outputs": [],
   "source": [
    "head(mtcars)"
   ]
  },
  {
   "cell_type": "markdown",
   "metadata": {},
   "source": [
    "Funktion *ggpairs* gibt paarweise für definierte Features die Korrelationskoeffizienten aus. Gleichzeitig werden die Verteilungsdiagramme ausgegeben:"
   ]
  },
  {
   "cell_type": "code",
   "execution_count": null,
   "metadata": {},
   "outputs": [],
   "source": [
    "ggpairs(mtcars, columns = c(\"mpg\", \"hp\", \"wt\"),\n",
    "        mapping=aes(color=as.factor(cyl), alpha=.5),\n",
    "        title=\"mpg, hp und wt\")"
   ]
  },
  {
   "cell_type": "markdown",
   "metadata": {},
   "source": [
    "Sehr übersichtlich werden die Korrelationen mit der Funktion *corrplot* ausgegeben. Zuerst werden mit der Funktion *cor* die Korrelationskoeffizienten paarweise berechnet. Die Analyse der Daten wäre allerdings unübersichtlich:"
   ]
  },
  {
   "cell_type": "code",
   "execution_count": null,
   "metadata": {},
   "outputs": [],
   "source": [
    "cor.cars <- cor(mtcars)\n",
    "cor.cars"
   ]
  },
  {
   "cell_type": "markdown",
   "metadata": {},
   "source": [
    "Die Funktion *corrplot* stellt die Daten grafisch dar. Hier einige Beispiele:"
   ]
  },
  {
   "cell_type": "code",
   "execution_count": null,
   "metadata": {},
   "outputs": [],
   "source": [
    "corrplot(cor.cars)"
   ]
  },
  {
   "cell_type": "markdown",
   "metadata": {},
   "source": [
    "**Kleine Übung**: Ergänzen Sie den obigen Funktionsaufruf *corrplot(cor.cars)* durch das Attribut \", method= x\" und setzen Sie für \"x\" folgende Werte ein:\n",
    "\n",
    "- square\n",
    "- pie\n",
    "- number\n",
    "- shade"
   ]
  }
 ],
 "metadata": {
  "kernelspec": {
   "display_name": "R",
   "language": "R",
   "name": "ir"
  },
  "language_info": {
   "codemirror_mode": "r",
   "file_extension": ".r",
   "mimetype": "text/x-r-source",
   "name": "R",
   "pygments_lexer": "r",
   "version": "3.5.3"
  }
 },
 "nbformat": 4,
 "nbformat_minor": 2
}
