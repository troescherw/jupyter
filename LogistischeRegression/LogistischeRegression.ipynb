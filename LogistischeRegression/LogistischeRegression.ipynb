{
 "cells": [
  {
   "cell_type": "markdown",
   "metadata": {},
   "source": [
    "# Logistische Regression"
   ]
  },
  {
   "cell_type": "markdown",
   "metadata": {},
   "source": [
    "Zuerst wieder einige Packages laden..."
   ]
  },
  {
   "cell_type": "code",
   "execution_count": null,
   "metadata": {},
   "outputs": [],
   "source": [
    "if (!require(\"dplyr\")) install.packages(\"dplyr\")\n",
    "if (!require(\"ggplot2\")) install.packages(\"ggplot2\")\n",
    "if (!require(\"caret\")) install.packages(\"caret\")\n",
    "if (!require(\"SMPracticals\")) install.packages(\"SMPracticals\")\n",
    "if(!require(\"ROCR\")) install.packages(\"ROCR\")\n",
    "if(!require(\"pROC\")) install.packages(\"pROC\")\n",
    "if(!require(\"randomForest\")) install.packages(\"randomForest\")\n",
    "if(!require(\"titanic\")) install.packages(\"titanic\")"
   ]
  },
  {
   "cell_type": "markdown",
   "metadata": {},
   "source": [
    "## Beispiel 1"
   ]
  },
  {
   "cell_type": "markdown",
   "metadata": {},
   "source": [
    "Wir erstellen einen einfachen Beispieldatensatz mit Daten über das Jahreseinkommen von Personen, deren Schulbildung und ob sie Führungskraft sind oder nicht:"
   ]
  },
  {
   "cell_type": "code",
   "execution_count": null,
   "metadata": {},
   "outputs": [],
   "source": [
    "Schuljahre <-c(8,9,13,13,8,10,10,9,10,9,11,8,15,13,10)\n",
    "Nettoeinkommen <- c(1800,2200,3200,3000,1700,2550,2600,1750,2900,2200,2500,1600,3900,3800,2500)\n",
    "IstFuehrungskraft <- c(0,0,1,1,0,1,0,0,0,0,1,0,1,0,0)\n",
    "\n",
    "daten <- data.frame(Schuljahre, Nettoeinkommen, IstFuehrungskraft)\n",
    "daten"
   ]
  },
  {
   "cell_type": "markdown",
   "metadata": {},
   "source": [
    "Wollen wir das Einkommen in Abhängigkeit der Schulbildung vorhersagen - kein Problem! Die Lineare Regression kann hier angewandt werden, da die abhängige Variable *Nettoeinkommen* stetig ist:"
   ]
  },
  {
   "cell_type": "code",
   "execution_count": null,
   "metadata": {},
   "outputs": [],
   "source": [
    "daten %>% ggplot(aes(Schuljahre, Nettoeinkommen)) +\n",
    "  geom_point() +\n",
    "  geom_smooth(method=\"lm\", se=F)"
   ]
  },
  {
   "cell_type": "markdown",
   "metadata": {},
   "source": [
    "Aber wie sieht es mit dem Feature *IstFuehrungskraft* aus? Können wir hier auch die Lineare Regression anwenden? Versuchen wir das Problem grafisch zu lösen:"
   ]
  },
  {
   "cell_type": "code",
   "execution_count": null,
   "metadata": {},
   "outputs": [],
   "source": [
    "daten %>% ggplot(aes(Schuljahre, IstFuehrungskraft)) +\n",
    "  geom_point() +\n",
    "  geom_smooth(method=\"lm\", se=F) +\n",
    "  geom_hline(yintercept = 0) +\n",
    "  geom_vline(xintercept = 7)"
   ]
  },
  {
   "cell_type": "markdown",
   "metadata": {},
   "source": [
    "**Problem**: Wir erhalten negative Werte, z.B. bei 8 Schuljahren und Werte >1 bei z.B. 15 Schuljahren!\n",
    "**Lösung**: Logistische Regression\n",
    "\n",
    "Zuerst grafisch:"
   ]
  },
  {
   "cell_type": "code",
   "execution_count": null,
   "metadata": {},
   "outputs": [],
   "source": [
    "daten %>% ggplot(aes(Schuljahre, IstFuehrungskraft)) +\n",
    "  geom_point(aes(Schuljahre, IstFuehrungskraft)) +\n",
    "  geom_smooth(method=\"glm\", method.args=list(family=\"binomial\"), se=F, color=\"red\") +\n",
    "  ggtitle(\"Führungskraft in Abhängigkeit von Schuljahren\")"
   ]
  },
  {
   "cell_type": "markdown",
   "metadata": {},
   "source": [
    "Als nächstes erstellen wir ein Modell für die Logistische Regression mit Hilfe der Methode *glm' (generalized logistic model):"
   ]
  },
  {
   "cell_type": "code",
   "execution_count": null,
   "metadata": {},
   "outputs": [],
   "source": [
    "model <- glm(IstFuehrungskraft~Schuljahre, data=daten, family=binomial())\n",
    "model"
   ]
  },
  {
   "cell_type": "markdown",
   "metadata": {},
   "source": [
    "Wir können nun eine Wahrscheinlichkeit angeben, mit der eine Person mit z.B. 14 Jahren Schulbildung:"
   ]
  },
  {
   "cell_type": "code",
   "execution_count": null,
   "metadata": {},
   "outputs": [],
   "source": [
    "predict(model, data.frame(Schuljahre=14), type=\"response\")"
   ]
  },
  {
   "cell_type": "markdown",
   "metadata": {},
   "source": [
    "## Beispiel Shuttle (Challanger-Katastrophe)"
   ]
  },
  {
   "cell_type": "markdown",
   "metadata": {},
   "source": [
    "Vorhersage, ob die verbaute Gummidichtung bei der herrschenden Temperatur funktionert. "
   ]
  },
  {
   "cell_type": "code",
   "execution_count": null,
   "metadata": {},
   "outputs": [],
   "source": [
    "library(SMPracticals)\n",
    "daten <- shuttle\n",
    "\n",
    "# Daten aufbereiten\n",
    "\n",
    "# Feature r: Nur 0 und 1 erlaubt\n",
    "daten$r <- ifelse(daten$r >0, 1, 0)\n",
    "\n",
    "str(daten)\n",
    "\n",
    "# Plotten\n",
    "daten %>% ggplot(aes(temperature, r)) +\n",
    "  geom_point() +\n",
    "  geom_smooth(method=\"glm\", method.args=list(family=binomial()), se=F)\n",
    "\n",
    "# Modell erstellen\n",
    "row.names(daten) <- NULL  # Rownames löschen (formale Gründe)\n",
    "model <- glm(r ~ temperature, data=daten, family = binomial)\n",
    "model\n",
    "\n",
    "# Vorhersage für 31 Grad Fahrenheit (Temperatur in der Nacht vor dem Start)\n",
    "predict(model, data.frame(temperature=31), type=\"response\")"
   ]
  },
  {
   "cell_type": "markdown",
   "metadata": {},
   "source": [
    "## Beispiel 3: TITANIC"
   ]
  },
  {
   "cell_type": "markdown",
   "metadata": {},
   "source": [
    "Überlebenswahrscheinlicheit auf der Titanic in Abhängigkeit von Geschlecht, Alter und Klasse."
   ]
  },
  {
   "cell_type": "code",
   "execution_count": null,
   "metadata": {},
   "outputs": [],
   "source": [
    "daten <- read.csv(\"titanic_complete.csv\", stringsAsFactors = F)\n",
    "dim(daten)\n",
    "head(daten)\n",
    "\n",
    "# Finden von NAs\n",
    "colSums(is.na(daten))\n",
    "\n",
    "str(daten)\n",
    "\n",
    "# Daten aufbereiten\n",
    "# Achtung: age enthält \"?\" für nicht bekannte Angaben! Ersetzen durch den Median\n",
    "daten$age[which(daten$age==\"?\")] <- mean(as.numeric(daten$age[which(daten$age!=\"?\")]))\n",
    "\n",
    "daten$pclass <- factor(daten$pclass, levels=c(3,2,1), ordered=TRUE)\n",
    "daten$sex <- as.factor(daten$sex)\n",
    "daten$age <- as.numeric(daten$age)\n",
    "\n",
    "# Aufteilen in Trainings- und Testdaten\n",
    "set.seed(42)\n",
    "index <- createDataPartition(daten$survived, p=.8, list=F)\n",
    "train <- daten[index, ]\n",
    "test  <- daten[-index, ] \n",
    "\n",
    "\n",
    "# Modell erstellen: Überlebenswahrscheinlichkeit in Abhängigkeit von\n",
    "# Alter, Klasse und Geschlecht\n",
    "model <- glm(survived ~ age + pclass + sex, family=binomial(\"logit\"), data=train)\n",
    "model\n",
    "\n",
    "# Prognose erstellen mit Test-Datensatz\n",
    "pred <- predict(model, test, type = \"response\")\n",
    "\n",
    "\n",
    "# Vergleich Ist- und prognostizierte Werte\n",
    "# Umwandeln der Wahrscheinlichkeiten in 0 und 1 - Werte\n",
    "ueberlebt_predicted <- ifelse(pred>.5, 1L, 0L)\n",
    "\n",
    "confusionMatrix(as.factor(ueberlebt_predicted), as.factor(test$survived))"
   ]
  },
  {
   "cell_type": "markdown",
   "metadata": {},
   "source": [
    "Wir können auch die Überlebenswahrscheinlickeit eines Beispielpassagiers schätzen, z.B. ein Männlicher Passagier, 20 Jahre alt, der in der 3. Klasse gereist ist. Ändern Sie die Daten ab und ermitteln Sie für andere Passagiertypen die Wahrscheinlichkeit!"
   ]
  },
  {
   "cell_type": "code",
   "execution_count": null,
   "metadata": {},
   "outputs": [],
   "source": [
    "passagier <- data.frame(age=20, pclass=as.factor(3), sex=as.factor(\"male\"))\n",
    "predict(model, newdata=passagier, type=\"response\")"
   ]
  },
  {
   "cell_type": "markdown",
   "metadata": {},
   "source": [
    "Wir können auch einen Plot erstellen:"
   ]
  },
  {
   "cell_type": "code",
   "execution_count": null,
   "metadata": {},
   "outputs": [],
   "source": [
    "# Plot für männliche Passiere der verschiedenen Klassen in Abhängigkeit vom Alter\n",
    "daten %>% filter(sex==\"male\") %>%\n",
    "  ggplot(aes(age, survived, color=pclass)) +\n",
    "  geom_smooth(method=\"glm\", method.args=list(family=\"binomial\"), se=F)"
   ]
  },
  {
   "cell_type": "markdown",
   "metadata": {},
   "source": [
    "Erstellen wir noch eine ROC-Kurve für unser Modell und geben die AUC aus:"
   ]
  },
  {
   "cell_type": "code",
   "execution_count": null,
   "metadata": {},
   "outputs": [],
   "source": [
    "# AUC und ROC-Kurve\n",
    "if(!require(\"ROCR\")) install.packages(\"ROCR\")\n",
    "pr <- prediction(pred, test$survived)\n",
    "roc <- performance(pr, measure = \"tpr\", x.measure = \"fpr\")\n",
    "plot(roc, colorize=T, print.cutoffs.at = seq(.1, .9, 0.1) )\n",
    "\n",
    "auc <- performance(pr, measure = \"auc\")\n",
    "auc@y.values[[1]]"
   ]
  },
  {
   "cell_type": "markdown",
   "metadata": {},
   "source": [
    "Im folgenden Code erstellen wir nochmals eine AUC-Kurve, genauer gesagt sogar zwei: Eine ROC-Kurve, die auf dem Modell der Logistischen Regression, eine weitere ROC-Kurve, die auf einem Random Forest basiert. Wir verwenden hier auch ein anderes Package, um die ROC-Kurven zu zeichnen. Wir erkennen, dass das Ramdom-Forest-Modell etwas besser abschneidet, da die AUC größer ist, verglichen mit der AUC der Logistischen Regression:"
   ]
  },
  {
   "cell_type": "code",
   "execution_count": null,
   "metadata": {},
   "outputs": [],
   "source": [
    "daten <- data.frame(ueberlebt=titanic_train$Survived,\n",
    "                    alter=titanic_train$Age,\n",
    "                    klasse=titanic_train$Pclass)\n",
    "daten <- na.omit(daten)\n",
    "daten$ueberlebt <- daten$ueberlebt\n",
    "\n",
    "set.seed(42)\n",
    "# Logistisches Modell  \n",
    "modell.log <- glm(ueberlebt~alter+klasse, family=binomial, data=daten)\n",
    "pred.log   <- modell.log$fitted.values\n",
    "\n",
    "# Random Forest\n",
    "model.rf <- randomForest(ueberlebt~alter+klasse, data=daten, ntree=50)\n",
    "pred.rf  <- predict(model.rf, daten)\n",
    "\n",
    "# ROC-Kurve plotten\n",
    "\n",
    "# Für Modell Log. Regression\n",
    "\n",
    "roc.curve <- roc(daten$ueberlebt, pred.log, plot=TRUE,\n",
    "                 legacy.axes=TRUE, col=\"blue\", lwd=4,\n",
    "                 print.auc=TRUE, print.auc.y=.2)\n",
    "\n",
    "# ROC für Random Forest hinzufügen\n",
    "plot.roc(daten$ueberlebt, pred.rf, add=TRUE, col=\"red\",\n",
    "         lwd=4, print.auc=TRUE, print.auc.y=.3)\n",
    "\n",
    "title(main=\"AUC Titanic für Log. Regression und Random Forest\", col.main=\"#CCAA00\")\n",
    "\n",
    "\n"
   ]
  },
  {
   "cell_type": "code",
   "execution_count": null,
   "metadata": {},
   "outputs": [],
   "source": []
  }
 ],
 "metadata": {
  "kernelspec": {
   "display_name": "R",
   "language": "R",
   "name": "ir"
  },
  "language_info": {
   "codemirror_mode": "r",
   "file_extension": ".r",
   "mimetype": "text/x-r-source",
   "name": "R",
   "pygments_lexer": "r",
   "version": "3.6.1"
  }
 },
 "nbformat": 4,
 "nbformat_minor": 2
}
