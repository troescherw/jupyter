{
 "cells": [
  {
   "cell_type": "markdown",
   "metadata": {},
   "source": [
    "# Ausreißer (Boxplot)"
   ]
  },
  {
   "cell_type": "code",
   "execution_count": null,
   "metadata": {},
   "outputs": [],
   "source": [
    "if(!require(\"ggplot2\")) install.packages(\"ggplot2\")\n",
    "if(!require(\"dplyr\")) install.packages(\"dplyr\")\n",
    "if(!require(\"outliers\")) install.packages(\"outliers\")"
   ]
  },
  {
   "cell_type": "markdown",
   "metadata": {},
   "source": [
    "Einfaches Beispiel für ein Boxplot-Diagramm:"
   ]
  },
  {
   "cell_type": "code",
   "execution_count": null,
   "metadata": {},
   "outputs": [],
   "source": [
    "daten <- c(3, 9, 17, 23, 27, 31, 42, 48, 57, 65)"
   ]
  },
  {
   "cell_type": "markdown",
   "metadata": {},
   "source": [
    "Wir geben die Quantile aus:"
   ]
  },
  {
   "cell_type": "code",
   "execution_count": null,
   "metadata": {},
   "outputs": [],
   "source": [
    "quantile(daten)"
   ]
  },
  {
   "cell_type": "markdown",
   "metadata": {},
   "source": [
    "Wir zeichnen ein Boxplot-Diagramm mit der \"eingebauten\" Diagramm-Funktion *boxplot*:"
   ]
  },
  {
   "cell_type": "code",
   "execution_count": null,
   "metadata": {},
   "outputs": [],
   "source": [
    "boxplot(daten)"
   ]
  },
  {
   "cell_type": "markdown",
   "metadata": {},
   "source": [
    "Wir zeichnen ein Boxplot-Diagramm mit *ggplot*:"
   ]
  },
  {
   "cell_type": "code",
   "execution_count": null,
   "metadata": {},
   "outputs": [],
   "source": [
    "data.frame(daten) %>% ggplot(aes(x=\"\", y=daten)) + geom_boxplot()"
   ]
  },
  {
   "cell_type": "markdown",
   "metadata": {},
   "source": [
    "Wir wenden dies auf den Datensatz *mtcars* an:"
   ]
  },
  {
   "cell_type": "code",
   "execution_count": null,
   "metadata": {},
   "outputs": [],
   "source": [
    "# Beispiel mtcars\n",
    "mtcars %>% ggplot(aes(x=as.factor(cyl), y=mpg)) +\n",
    "  geom_boxplot() + xlab(\"Anzahl Zylinder\") +\n",
    "  ylab(\"Verbrauch in mpg\")"
   ]
  },
  {
   "cell_type": "markdown",
   "metadata": {},
   "source": [
    "Im Boxplot für 8 Zylinder werden 2 Ausreißer angezeigt, ein oberer und ein unterer Ausreißer. Wir verwenden die Funktion *grubbs.test*, um Ausreißer zu ermitteln, hier auf die Fahrzeugt mit 8 Zylinder:"
   ]
  },
  {
   "cell_type": "code",
   "execution_count": null,
   "metadata": {},
   "outputs": [],
   "source": [
    "mpgs <- mtcars %>% filter(cyl==8) %>% select(mpg)\n",
    "grubbs.test(mpgs$mpg, type=11)  #type=11: Unterer und oberer Ausreißer wird berechnet, falls vorhanden"
   ]
  },
  {
   "cell_type": "markdown",
   "metadata": {},
   "source": [
    "Laut Grubbs-Test sind 10.4 und 19.2 Ausreißer, analog dem Boxplot (was aber nicht immer übereinstimmen muss!)."
   ]
  }
 ],
 "metadata": {
  "kernelspec": {
   "display_name": "R",
   "language": "R",
   "name": "ir"
  },
  "language_info": {
   "codemirror_mode": "r",
   "file_extension": ".r",
   "mimetype": "text/x-r-source",
   "name": "R",
   "pygments_lexer": "r",
   "version": "3.5.3"
  }
 },
 "nbformat": 4,
 "nbformat_minor": 2
}
