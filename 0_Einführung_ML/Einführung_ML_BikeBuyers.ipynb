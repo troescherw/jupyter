{
 "cells": [
  {
   "cell_type": "markdown",
   "metadata": {},
   "source": [
    "# Einführung in Machine Learning"
   ]
  },
  {
   "cell_type": "markdown",
   "metadata": {},
   "source": [
    "## Was ist Machine Learning?\n",
    "\n",
    "Mithilfe von Machine Learning (maschinelles Lernen) werden IT-Systeme in die Lage versetzt, auf Basis vorhandener Daten und Algorithmen Muster und Gesetzmäßigkeiten zu erkennen. Die aus diesen Daten, den sog. Trainingsdaten, gewonnenen Erkenntnisse lassen sich für die Analyse von bisher unbekannten Daten anwenden, wie zum Beispiel\n",
    "\n",
    "* wird dieses Gerät (z.B. ein Fahrstuhl, , eine Turbine, ein Windrad etc.) demnächst ausfallen?\n",
    "* unter welcher Krankheit leidet dieser Patient?\n",
    "* liegt ein Kreditkartenbetrug vor?\n",
    "* welches Marketingmodell kann ich auf bestimmte Personen anwenden?\n",
    "* wie viele Autos werden an einem bestimmten Datum auf einer Straße erwartet?\n",
    "* Wird ein Kunde einen bestimmten Artikel kaufen?\n",
    "* welches Objekt ist auf diesem Foto zu sehen?\n",
    "* u.s.w.\n",
    "\n",
    "Machine Learning wird häufig im Zusammenhang mit Künstlicher Intelligenz erwähnt. Der Begriff Intelligenz trifft allerdings in Bezug auf Machine-Learning nicht ganz zu, da es weniger um Intelligenz, sondern eher um durch Maschinen (gemeint sind Computer) erkennbare Muster geht.\n",
    "\n",
    "In diesem Skript werden anhand eines einfachen Beispiels einige typische Verfahren im Bereich Machine Learning vorgestellt, ohne auf die mathematischen Hintergründe einzugehen. Vor dem Erstellen eines Prognose-Modells werden wir einige Diagramme erstellen. Dies ist durchaus üblich, um vorab die Daten besser zu verstehen (sog. EDA - Explorative\n",
    "Datenanalyse).\n",
    "\n",
    "Für die Erstellung von Diagrammen und der Machine Learning Modelle werden wir die Programmiersprache R verwenden. Allerdings geht es hier nicht um das Erlernen dieser Programmiersprache, sondern nur um die grundsätzlichen Möglichkeiten im Bereich Machine Learning. Neben R ist zum Beispiel auch noch die Sprache Python weit verbreitet. Es gibt auch grafische Tools, die für Machine Learning eingesetzt werden, wie z.B. das Programm Knime.\n",
    "\n",
    "Exemplarisch wollen wir in diesem Skript die Daten einer Kundendatenbank eines Fahrradhändlers auswerten, um mit Hilfe eines Vorhersagemodells zu prognostizieren, wie viel Geld ein Bestandskunde voraussichtlich pro Monat für Fahrradzubehör ausgeben wird und ob ein Kunde ein Fahrrad kaufen wird oder nicht. Dies ist für entsprechende Marketingmaßnahmen ein sehr hilfreiches Instrument!\n",
    "\n",
    "Doch zuerst wollen wir uns einen Überblick über den bestehenden Datensatz verschaffen. Dazu laden wir zuerst den Datensatz aus der Datei (BikeCustomers.csv) in den speicher und geben exemplarisch die ersten 6 Zeilen des Datensatzes aus:"
   ]
  },
  {
   "cell_type": "code",
   "execution_count": null,
   "metadata": {},
   "outputs": [],
   "source": [
    "# Zuerst müssen wir einige Packages laden, die wir in diesem Skript verwenden wollen\n",
    "if(!require(\"lubridate\")) install.packages(\"lubridate\", quietly = T)\n",
    "if(!require(\"dplyr\")) install.packages(\"dplyr\", quietly = T)\n",
    "if(!require(\"ggplot2\")) install.packages(\"ggplot2\", quietly = T)\n",
    "if(!require(\"rio\")) install.packages(\"caret\", quietly = T)\n",
    "if(!require(\"scales\")) install.packages(\"scales\", quietly = T)\n",
    "if(!require(\"rpart\")) install.packages(\"rpart\", quietly = T)\n",
    "if(!require(\"rpart.plot\")) install.packages(\"rpart.plot\", quietly = T)\n",
    "if(!require(\"caret\")) install.packages(\"caret\", quietly = T)\n",
    "\n",
    "print(\"Alle Packages geladen!\")"
   ]
  },
  {
   "cell_type": "code",
   "execution_count": null,
   "metadata": {},
   "outputs": [],
   "source": [
    "# Datensatz laden\n",
    "daten <- import(\"BikeCustomers.csv\")\n",
    "# Mit head heben wir die ersten 6 Zeilen des Datensatzes aus\n",
    "head(daten)"
   ]
  },
  {
   "cell_type": "markdown",
   "metadata": {},
   "source": [
    "Die Spalten der Tabelle (die sog. Features) haben dabei folgende Bedeutung:\n",
    "\n",
    "\n",
    "|Feature | Bedeutung |\n",
    "|--------|-----------|\n",
    "|CustomerID (integer)| Eindeutige Nummer des Kunden|\n",
    "|Title (string)| Anrede (Mr, Mrs, Ms, Miss Dr, etc.)|\n",
    "|FirstName (string)| Vorname|\n",
    "|MiddleName (string)| Zweiter Vorname|\n",
    "|LastName (string)| Nachname|\n",
    "|Suffix (string)| Namenszusatz (Jr, Sr, etc.)|\n",
    "|AddressLine1 (string)| Adresse1|\n",
    "|AddressLine2 (string)| Adresse2|\n",
    "|City (string)| Wohnort des Kunden|\n",
    "|StateProvince (string)| Bundesstaat, in dem der Kunde lebt|\n",
    "|CountryRegion (string)| Land oder Region, in dem der Kunde lebt|\n",
    "|PostalCode (string)| Postleitzahl des Wohnortes|\n",
    "|PhoneNumber (string)| Telefonnummer des Kunden|\n",
    "|BirthDate (date)| Geburtsdatum im Format JJJJ-MM-TT|\n",
    "|Education (string)| Höchster Bildungsabschluss des Kunden|\n",
    "|Occupation (string)| Bereich, in dem der Kunde beruflich tätig ist|\n",
    "|Gender (string)| Geschlecht|\n",
    "|MaritalStatus (string)| Familienstand|\n",
    "|HomeOwnerFlag (integer)| Ob der Kunde in einem Eigenheim lebt (1) oder nicht (0)|\n",
    "|NumberCarsOwned (integer)| Anzahl der Autos im Haushalt|\n",
    "|NumberChildrenAtHome (integer)| Anzahl der Kinder im Haushalt|\n",
    "|TotalChildren (integer)| Anzahl der Kinder insgesamt|\n",
    "|YearlyIncome (decimal)| Jährliches Bruttoeinkommen|\n",
    "|AveMonthSpend (decimal)| Durchschnittliche Ausgaben für Fahrrad(-Zubehör) im Monat|\n",
    "|BikeBuyer (integer)| Ob  der Kunde  bereits ein Fahrrad gekauft hat (1) oder nicht (0)|"
   ]
  },
  {
   "cell_type": "markdown",
   "metadata": {},
   "source": [
    "\n",
    "Wir müssen vorab die Daten noch etwas anpassen. So sind die Geburtsdaten aktuell als Zeichenkette hinterlegt (sog. String). Wir müssen diese in Daten vom Typ *Date* umwandeln. Außerdem haben wir noch sog. kategoriale Variablen vorliegen. Dies sind Daten, die nur bestimmte Werte annehmen können, so wie z.B. Geschlecht (Gender) oder die Berufsgruppe (Occupation). Diese Features können nur vorab definierte Werte (Kategorien) enthalten. Außerdem wollen wir noch zwei weitere Features hinzufügen: Aus dem aktuellen Datum und dem Geburtsdatum generieren wir die Spalte *Age*, außerdem wollen wir die Kunden noch in Altersgruppen einteilen (*Agegroup*):\n",
    "\n",
    "|Altersgruppe|Codierung|\n",
    "|:----------:|:-------:|\n",
    "| <20        |    1    |\n",
    "| 21 - 30    |    2    |\n",
    "| 31 - 44    |    3    |\n",
    "| 45 - 59    |    4    |\n",
    "| >=60       |    5    |"
   ]
  },
  {
   "cell_type": "code",
   "execution_count": null,
   "metadata": {},
   "outputs": [],
   "source": [
    "# Features anpassen\n",
    "daten$BirthDate <- as.Date(daten$BirthDate, format = \"%Y-%m-%d\")\n",
    "daten$Education <- factor(daten$Education)\n",
    "daten$Gender <- factor(daten$Gender)\n",
    "daten$MaritalStatus <- factor(daten$MaritalStatus)\n",
    "daten$Occupation <- factor(daten$Occupation)\n",
    "daten$HomeOwnerFlag <- factor(daten$HomeOwnerFlag)\n",
    "daten$BikeBuyer <- ifelse(daten$BikeBuyer==1, \"Yes\", \"No\")\n",
    "daten$BikeBuyer <- factor(daten$BikeBuyer)\n",
    "\n",
    "# Geburtsdatum in Alter umwandeln und in Spalte Age speichern\n",
    "daten$Age <- round( (year(today()) - year(daten$BirthDate)))\n",
    "daten$BirthDate <- NULL # Birthdate brauchen wir nicht mehr\n",
    "\n",
    "# Wir fügen noch eine Spalte Altersgruppe hinzu:\n",
    "# <20, 20 - 30, 31-45, 46-60, >60\n",
    "\n",
    "daten$Agegroup <- ifelse(daten$Age<20, 1, ifelse(daten$Age <31, 2, \n",
    "                                           ifelse(daten$Age<45, 3,\n",
    "                                              ifelse(daten$Age<60, 4, 5))))\n",
    "# Auch Agegroup ist kategorial\n",
    "daten$Agegroup <- factor(daten$Agegroup) "
   ]
  },
  {
   "cell_type": "markdown",
   "metadata": {},
   "source": [
    "Der Datensatz ist nun für weitere Analysen vorbereitet. Geben wir zur Übersicht mal aus, aus wie vielen Zeilen und Spalten unser Datensatz nun besteht."
   ]
  },
  {
   "cell_type": "code",
   "execution_count": null,
   "metadata": {},
   "outputs": [],
   "source": [
    "# Anzahl Kunden (Zeilen) und Features (Spalten) insgesamt\n",
    "dim(daten)"
   ]
  },
  {
   "cell_type": "markdown",
   "metadata": {},
   "source": [
    "Uns liegen also die Daten von 17.209 Kunden vor. Geben wir eine Tabelle aus, die uns Informationen darüber liefert, wie viele dieser Kunden bereits ein Fahrrad gekauft haben und wie viele nicht:"
   ]
  },
  {
   "cell_type": "code",
   "execution_count": null,
   "metadata": {},
   "outputs": [],
   "source": [
    "# Anzahl Kunden, die ein Fahrrad gekauft (Yes) bzw. nicht\n",
    "# gekauft haben (No)\n",
    "table(daten$BikeBuyer)"
   ]
  },
  {
   "cell_type": "markdown",
   "metadata": {},
   "source": [
    "Erstellen wir nun ein paar Diagramme, um ein Gefühl für unseren Datensatz zu entwickeln. Dieser Vorgang wird auch häufig als EDA bezeichnet (Explorative DatenAnalyse).\n",
    "\n",
    "Unabhängig von den Fahrrädern wäre es interessant zu wissen, wie hoch das durchschnittliche Jahreseinkommen pro Berufsgruppe ist:"
   ]
  },
  {
   "cell_type": "code",
   "execution_count": null,
   "metadata": {},
   "outputs": [],
   "source": [
    "# Jährliches Einkommen nach Berufsgruppe\n",
    "daten %>% ggplot(aes(Occupation, YearlyIncome)) + geom_bar(stat=\"identity\") +\n",
    "  scale_y_continuous(labels=format_format(scientific=FALSE,\n",
    "                                          decimal.mark=\".\", big.mark=\",\"))"
   ]
  },
  {
   "cell_type": "markdown",
   "metadata": {},
   "source": [
    "Noch ein weiteres Balkendiagramm: Einkommen in Abhängigkeit von der Schulbildung:"
   ]
  },
  {
   "cell_type": "code",
   "execution_count": null,
   "metadata": {},
   "outputs": [],
   "source": [
    "# Jährliches Einkommen nach Bildung\n",
    "daten %>% ggplot(aes(Education, YearlyIncome)) + geom_bar(stat=\"identity\") +\n",
    "  scale_y_continuous(labels=format_format(scientific=FALSE,\n",
    "                                          decimal.mark=\".\", big.mark=\",\"))"
   ]
  },
  {
   "cell_type": "markdown",
   "metadata": {},
   "source": [
    "Gibt es einen Zusammenhang zwischen Anzahl der Kinder und der Schulbildung? Ausgegeben als Tabelle und als Diagramm:"
   ]
  },
  {
   "cell_type": "code",
   "execution_count": null,
   "metadata": {},
   "outputs": [],
   "source": [
    "daten %>% group_by(Education) %>% summarise(mean(TotalChildren))\n",
    "\n",
    "daten %>% group_by(Education) %>%\n",
    "  summarise(DurchschnittKinder = mean(TotalChildren)) %>%\n",
    "  ggplot(aes(Education, DurchschnittKinder)) +\n",
    "  geom_bar(stat = \"identity\")"
   ]
  },
  {
   "cell_type": "markdown",
   "metadata": {},
   "source": [
    "Wir geben das Jahreseinkommen in Abhängigkeit der Bildung als Boxplot-Diagramm aus."
   ]
  },
  {
   "cell_type": "code",
   "execution_count": null,
   "metadata": {},
   "outputs": [],
   "source": [
    "daten %>% ggplot(aes(Education, YearlyIncome)) +\n",
    "  geom_boxplot(fill=\"red\")"
   ]
  },
  {
   "cell_type": "markdown",
   "metadata": {},
   "source": [
    "Unterscheidet sich das Einkommen zwischen den Kunden, die über Wohneigentum verfügen oder nicht? Wir geben das wieder als Boxplot aus."
   ]
  },
  {
   "cell_type": "code",
   "execution_count": null,
   "metadata": {},
   "outputs": [],
   "source": [
    "daten %>% ggplot(aes(HomeOwnerFlag, YearlyIncome)) +\n",
    "  geom_boxplot(fill=\"red\") +\n",
    "  scale_y_continuous(labels=format_format(scientific=FALSE,\n",
    "                                          decimal.mark=\".\",\n",
    "                                          big.mark=\",\"))"
   ]
  },
  {
   "cell_type": "markdown",
   "metadata": {},
   "source": [
    "Wie unterscheidet sich das Einkommen zwischen den definierten Altersgruppen?"
   ]
  },
  {
   "cell_type": "code",
   "execution_count": null,
   "metadata": {},
   "outputs": [],
   "source": [
    "# Einkommen bzgl. Altersgruppe\n",
    "daten %>% ggplot(aes(Agegroup, YearlyIncome)) +\n",
    "  geom_boxplot(fill=\"red\") +\n",
    "  scale_y_continuous(labels=format_format(scientific=FALSE,\n",
    "                                          decimal.mark=\".\",\n",
    "                                          big.mark=\",\")) +\n",
    "  ggtitle(\"Einkommen je Altersgruppe\") +\n",
    "  xlab(\"Altersgruppe\") + ylab(\"Jahreseinkommen\")"
   ]
  },
  {
   "cell_type": "markdown",
   "metadata": {},
   "source": [
    "Wie hängen die durchschnittlichen Ausgaben pro Monat für Fahrräder vom Einkommen ab? Wir geben jeden einzelnen Wert für *AveMonthSpend* als Punkt aus (sog. Scatterplot). Wir färben die Punkte nach der beruflihen Tätigkeit ein. Zusätzlich fügen wir eine Trendlinie ein, eine sog. Regressionsgerade."
   ]
  },
  {
   "cell_type": "code",
   "execution_count": null,
   "metadata": {},
   "outputs": [],
   "source": [
    "# Durchschn. Ausgaben pro Monat in Abhängigkeit vom Einkommen\n",
    "daten %>% ggplot(aes(YearlyIncome, AveMonthSpend, color=Occupation)) +\n",
    "  geom_point(alpha=.3) +\n",
    "  geom_smooth(method=\"lm\", color=\"red\", size=2)"
   ]
  },
  {
   "cell_type": "markdown",
   "metadata": {},
   "source": [
    "Bisher haben wir nur Diagramme bestehend auf den vorliegenden Daten erstellt. Jetzt wollen wir aber ein Beispiel für Machine Learning durchführen: Im zuletzt generierten Diagramm haben wir eine Trendlinie erstellt, um den Wert für *AveMonthSpend* anhand einer weiteren Information (YearlyIncome) einen Wert für AveMonthSpend vorherzusagen. Wir wollen nun doch weitere Informationen einfließen lassen, um die Vorhersagegenauigkeit zu erhöhen.\n",
    "\n",
    "Die Vorhersage soll auf Basis der Features *Agegroup*, *Education*, *Occupation*, *HomeOwnerFlag*, *NumberCarsOwned*, *MaritalStatus* und *Gender* erfolgen. Dazu erstellen wir ein Vorhersagemodell und können dann eine Prognose wagen. Um die QUalität unseres Modells zu bestimmen, teilen wir unseren Datensatz in einen Trainings- und Testdatensatz auf. Mit dem Trainingsdatensatz erstellen (\"trainieren\") wir das Modell. Mit dem Testdatensatz vergleichen wir unsere Vorhersage (Prediction) mit dem realen Wert aus dem Testdatensatz. Der nachfolgende Quellcode führt alle diese Schritte aus und gibt zufällig 20 Zeilen aus, die sowohl unsere Vorhersage als auch den wahren Wert für *AveMonthSpend* anzeigen:"
   ]
  },
  {
   "cell_type": "code",
   "execution_count": null,
   "metadata": {},
   "outputs": [],
   "source": [
    "# Vorhersage, wieviel ein Kunde monatlich für Fahrräder\n",
    "# ausgibt (AvgMonthSpend).\n",
    "# Bekannt sind: YearlyIncome, Agegroup, Education, MaritalStatus, Gender\n",
    "set.seed(42)\n",
    "\n",
    "# Aufteilen in Trainings- und Testdatensatz\n",
    "index <- createDataPartition(daten$AveMonthSpend, p=.8, list=FALSE)\n",
    "train <- daten[index, ]    # Trainingsdaten\n",
    "test  <- daten[-index, ]   # Testdaten\n",
    "\n",
    "\n",
    "# Unser Vorhersagemodell erstellen\n",
    "modell <- lm(AveMonthSpend~Agegroup+Education+Occupation+\n",
    "           HomeOwnerFlag+NumberCarsOwned+NumberChildrenAtHome+\n",
    "           TotalChildren+Age+Agegroup+Gender, data=train )\n",
    "\n",
    "# Vorhersage (Prediction) anhand des Modells erstellen\n",
    "pred <- predict(modell, test, type=\"response\")\n",
    "\n",
    "# Gib zufällig Vergleichszahlen aus (Real vs. Pred)\n",
    "Ergebnisse <- data.frame(Vorhersage=round(pred), \n",
    "                         RealerWert=test$AveMonthSpend)\n",
    "sample_n(Ergebnisse, 20)"
   ]
  },
  {
   "cell_type": "markdown",
   "metadata": {},
   "source": [
    "## Bestimmung der Qualität eines Modells\n",
    "Wir stellen fest, dass unser Modell eine recht gute Vorhersage liefert!\n",
    "\n",
    "Wir wollen noch ein weiteres Modell erstellen! Interessant ist sicher auch, ob Personen, die über bestimmte Merkmale verfügen, eher ein Fahrrad kaufen werden oder nicht. Bei Personen, die mit höherer Wahrscheinlichkeit ein Fahrrad kaufen werden, können wir gezielt im Rahmen einer Marketing-Kampagne ansprechen, z.B. durch Sonderrabatte.\n",
    "\n"
   ]
  },
  {
   "cell_type": "markdown",
   "metadata": {},
   "source": [
    "Wir wollen die Daten der Merkmale *Gender*, *YearlyIncome*, *Agegroup*, *Occupation* und *NumberChildrenAtHome* in unser Modell einfließen lassen. Als Modell verwenden wir einen sog. \"Entscheidungsbaum\" (Decision Tree), das das Modell eine Kategorie vorhersagen soll: Wird der Kunde ein Fahrrad kaufen oder nicht? Der folgende R-Code erstellt das Modell und gibt auch den erstellten Entscheidungsbaum grafisch aus."
   ]
  },
  {
   "cell_type": "code",
   "execution_count": null,
   "metadata": {},
   "outputs": [],
   "source": [
    "# Vorhersage, ob ein Kunde ein Fahrrad kaufen wird\n",
    "# mit Hilfe eines Entscheidungsbaums (Decision Tree)\n",
    "\n",
    "rpcontrol <- rpart.control(minsplit = 2, minbucket = 3, cp=.003)\n",
    "modell2 <- rpart(BikeBuyer~Gender+YearlyIncome+Agegroup+Occupation+\n",
    "                   NumberChildrenAtHome, data=train,\n",
    "                 control=rpcontrol)\n",
    "\n",
    "rpart.plot(modell2, cex=1, branch.col=10, branch.lwd=4, type=1)"
   ]
  },
  {
   "cell_type": "markdown",
   "metadata": {},
   "source": [
    "Wie gut war nun unser Vorhersagemodell? Wir geben dazu eine Tabelle aus, die die Anzahl der richtig, aber auch falsch zugeordneten Kunden gegenüberstellt:"
   ]
  },
  {
   "cell_type": "code",
   "execution_count": null,
   "metadata": {},
   "outputs": [],
   "source": [
    "# Testen unseres Modells\n",
    "\n",
    "# Vorhersage (Prediction) anhand des Modells\n",
    "pred2 <- predict(modell2, test, type = \"class\")\n",
    "\n",
    "# Gegenüberstellung der Daten\n",
    "table(pred2, test$BikeBuyer)"
   ]
  },
  {
   "cell_type": "markdown",
   "metadata": {},
   "source": [
    "Wie gut ist nun das Modell? Eine Statistik, die das in einer Zahl zusammenfasst, nennt sich *Accuracy*. Das ist das Verhältnis der richtig vorhergesagten Daten zur Gesamtzahl der Beobachtungen. Je näher der Wert bei 1,0 liegt, desto besser. In unserem Beispiel beträgt die *Accuracy* = (2117+592) / (2117+592+227+504) = 0,79:"
   ]
  },
  {
   "cell_type": "code",
   "execution_count": null,
   "metadata": {},
   "outputs": [],
   "source": [
    "# Accuracy ausgeben\n",
    "confusionMatrix(pred2, test$BikeBuyer)$overall[\"Accuracy\"]"
   ]
  },
  {
   "cell_type": "markdown",
   "metadata": {},
   "source": [
    "Unser Modell lag also bei knapp 80% der Daten richtig, was kein schlechter Wert ist!"
   ]
  },
  {
   "cell_type": "code",
   "execution_count": null,
   "metadata": {},
   "outputs": [],
   "source": []
  }
 ],
 "metadata": {
  "kernelspec": {
   "display_name": "R",
   "language": "R",
   "name": "ir"
  },
  "language_info": {
   "codemirror_mode": "r",
   "file_extension": ".r",
   "mimetype": "text/x-r-source",
   "name": "R",
   "pygments_lexer": "r",
   "version": "3.5.3"
  }
 },
 "nbformat": 4,
 "nbformat_minor": 2
}
